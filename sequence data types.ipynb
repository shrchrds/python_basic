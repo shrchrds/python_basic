{
 "cells": [
  {
   "cell_type": "markdown",
   "id": "aee17eaa",
   "metadata": {},
   "source": [
    "**069.\n",
    "Create a tuple containing the names of five countries and display the whole tuple. Ask\n",
    "the user to enter one of the countries that have been shown to them and then display\n",
    "the index number (i.e. position in the list) of that item in the tuple.**"
   ]
  },
  {
   "cell_type": "code",
   "execution_count": 1,
   "id": "9bbdcae4",
   "metadata": {},
   "outputs": [
    {
     "name": "stdout",
     "output_type": "stream",
     "text": [
      "Five countries are :  ('India', 'Nepal', 'Bhutan', 'Sri Lanka', 'Thailand')\n",
      "Enter name of country from above tuple: India\n",
      "Index of India is:  0\n"
     ]
    }
   ],
   "source": [
    "countries = (\"India\", \"Nepal\", \"Bhutan\", \"Sri Lanka\", \"Thailand\")\n",
    "print(\"Five countries are : \", countries)\n",
    "country = input(\"Enter name of country from above tuple: \")\n",
    "index = countries.index(country)\n",
    "print(f\"Index of {country} is: \", index)"
   ]
  },
  {
   "cell_type": "markdown",
   "id": "02a331f1",
   "metadata": {},
   "source": [
    "**070.\n",
    "Add to program 069 to ask the\n",
    "user to enter a number and\n",
    "display the country in that\n",
    "position.**"
   ]
  },
  {
   "cell_type": "code",
   "execution_count": 2,
   "id": "5530cb35",
   "metadata": {},
   "outputs": [
    {
     "name": "stdout",
     "output_type": "stream",
     "text": [
      "Five countries are :  ('India', 'Nepal', 'Bhutan', 'Sri Lanka', 'Thailand')\n",
      "Enter a number to display country in that position: 3\n",
      "Country at 3 index is:  Sri Lanka\n"
     ]
    }
   ],
   "source": [
    "countries = (\"India\", \"Nepal\", \"Bhutan\", \"Sri Lanka\", \"Thailand\")\n",
    "print(\"Five countries are : \", countries)\n",
    "number  = int(input(\"Enter a number to display country in that position: \"))\n",
    "country = countries[number]\n",
    "print(f\"Country at {number} index is: \", country)"
   ]
  },
  {
   "cell_type": "markdown",
   "id": "06e910e3",
   "metadata": {},
   "source": [
    "**071.\n",
    "Create a list of two sports. Ask the\n",
    "user what their favourite sport is and\n",
    "add this to the end of the list. Sort the\n",
    "list and display it.**"
   ]
  },
  {
   "cell_type": "code",
   "execution_count": 3,
   "id": "594e09f3",
   "metadata": {},
   "outputs": [
    {
     "name": "stdout",
     "output_type": "stream",
     "text": [
      "Enter your favourite sports: Chess\n",
      "Sorted list of sports:  ['Chess', 'Cricket', 'Hockey']\n"
     ]
    }
   ],
   "source": [
    "sports_list = [\"Cricket\", \"Hockey\"]\n",
    "favourite_sports = input(\"Enter your favourite sports: \")\n",
    "sports_list.append(favourite_sports)\n",
    "print(\"Sorted list of sports: \", sorted(sports_list))"
   ]
  },
  {
   "cell_type": "markdown",
   "id": "1e634e8d",
   "metadata": {},
   "source": [
    "**072.\n",
    "Create a list of six school subjects. Ask the user which of these\n",
    "subjects they don’t like. Delete the subject they have chosen from the\n",
    "list before you display the list again.**"
   ]
  },
  {
   "cell_type": "code",
   "execution_count": 4,
   "id": "e18a2b95",
   "metadata": {},
   "outputs": [
    {
     "name": "stdout",
     "output_type": "stream",
     "text": [
      "Enter subject you don’t like: English\n",
      "Updated subjects list is:  ['Marathi', 'History', 'Geography', 'Maths', 'Science']\n"
     ]
    }
   ],
   "source": [
    "subjects_list = [\"Marathi\", \"English\", \"History\", \"Geography\", \"Maths\", \"Science\"]\n",
    "subject = input(\"Enter subject you don’t like: \")\n",
    "subjects_list.remove(subject)\n",
    "print(\"Updated subjects list is: \", subjects_list)"
   ]
  },
  {
   "cell_type": "markdown",
   "id": "634e8a53",
   "metadata": {},
   "source": [
    "**073.\n",
    "Ask the user to\n",
    "enter four of their\n",
    "favourite foods\n",
    "and store them in\n",
    "a dictionary so\n",
    "that they are\n",
    "indexed with\n",
    "numbers starting\n",
    "from 1. Display\n",
    "the dictionary in\n",
    "full, showing the\n",
    "index number\n",
    "and the item. Ask\n",
    "them which they\n",
    "want to get rid of\n",
    "and remove it\n",
    "from the list. Sort\n",
    "the remaining\n",
    "data and display\n",
    "the dictionary.**"
   ]
  },
  {
   "cell_type": "code",
   "execution_count": 5,
   "id": "a1ce46c7",
   "metadata": {},
   "outputs": [
    {
     "name": "stdout",
     "output_type": "stream",
     "text": [
      "Enter your favourite food1: Dal\n",
      "Enter your favourite food2: Roti\n",
      "Enter your favourite food3: Paneer\n",
      "Enter your favourite food4: Jilebi\n",
      "Entire Dictionary of foods :  {1: 'Dal', 2: 'Roti', 3: 'Paneer', 4: 'Jilebi'}\n",
      "Enter your food you want to get rid of : 3\n",
      "Sorted dictionary after removing a fooditem:  ['Dal', 'Jilebi', 'Roti']\n"
     ]
    }
   ],
   "source": [
    "foods = {}\n",
    "f1 = input(\"Enter your favourite food1: \")\n",
    "foods[1] = f1\n",
    "f2 = input(\"Enter your favourite food2: \")\n",
    "foods[2] = f2\n",
    "f3 = input(\"Enter your favourite food3: \")\n",
    "foods[3] = f3\n",
    "f4 = input(\"Enter your favourite food4: \")\n",
    "foods[4] = f4\n",
    "print(\"Entire Dictionary of foods : \", foods)\n",
    "unfav = int(input(\"Enter your food you want to get rid of : \"))\n",
    "del foods[unfav]\n",
    "print(\"Sorted dictionary after removing a fooditem: \", sorted(foods.values()))"
   ]
  },
  {
   "cell_type": "markdown",
   "id": "06fba1b5",
   "metadata": {},
   "source": [
    "**074.\n",
    "Enter a list of ten colours.\n",
    "Ask the user for a starting\n",
    "number between 0 and 4\n",
    "and an end number\n",
    "between 5 and 9. Display\n",
    "the list for those colours\n",
    "between the start and end\n",
    "numbers the user input.**"
   ]
  },
  {
   "cell_type": "code",
   "execution_count": 9,
   "id": "1a04d45b",
   "metadata": {},
   "outputs": [
    {
     "name": "stdout",
     "output_type": "stream",
     "text": [
      "Enter a number between 0 and 4: 3\n",
      "Enter a number between 5 and 9: 7\n",
      "List between 3 and 7  is: ['Orange', 'Yellow', 'White', 'Violet', 'Gray']\n"
     ]
    }
   ],
   "source": [
    "color_list = [\"Black\", \"Blue\", \"Pink\",\"Orange\",\"Yellow\", \"White\", \"Violet\", \"Gray\", \"Purple\", \"Green\"]\n",
    "index1 = int(input(\"Enter a number between 0 and 4: \"))\n",
    "index2 = int(input(\"Enter a number between 5 and 9: \"))\n",
    "print(f\"List between {index1} and {index2 }  is: {color_list[index1:index2+1]}\")"
   ]
  },
  {
   "cell_type": "markdown",
   "id": "968a1ca1",
   "metadata": {},
   "source": [
    "**075.\n",
    "Create a list of four three-digit\n",
    "numbers. Display the list to the\n",
    "user, showing each item from\n",
    "the list on a separate line. Ask\n",
    "the user to enter a three-digit\n",
    "number. If the number they\n",
    "have typed in matches one in\n",
    "the list, display the position of\n",
    "that number in the list,\n",
    "otherwise display the message\n",
    "“That is not in the list”.**"
   ]
  },
  {
   "cell_type": "code",
   "execution_count": 10,
   "id": "cf447750",
   "metadata": {},
   "outputs": [
    {
     "name": "stdout",
     "output_type": "stream",
     "text": [
      "123\n",
      "456\n",
      "789\n",
      "345\n",
      "Enter a 3 digit number: 123\n",
      "Position of 123 in list is: 0\n"
     ]
    }
   ],
   "source": [
    "num_list = [123, 456, 789, 345]\n",
    "for i in num_list:\n",
    "    print(i)\n",
    "num = int(input(\"Enter a 3 digit number: \"))\n",
    "if num in num_list :\n",
    "    print(f\"Position of {num} in list is: {num_list.index(num)}\")\n",
    "else:\n",
    "    print(\"That is not in the list\")"
   ]
  },
  {
   "cell_type": "markdown",
   "id": "f1b9fa89",
   "metadata": {},
   "source": [
    "**076.\n",
    "Ask the user to enter the names of three people they want to\n",
    "invite to a party and store them in a list. After they have entered\n",
    "all three names, ask them if they want to add another. If they do,\n",
    "allow them to add more names until they answer “no”. When\n",
    "they answer “no”, display how many people they have invited to\n",
    "the party.**"
   ]
  },
  {
   "cell_type": "code",
   "execution_count": 15,
   "id": "733dd5ba",
   "metadata": {},
   "outputs": [
    {
     "name": "stdout",
     "output_type": "stream",
     "text": [
      "Enter a name of people you want to invite to a party: Vishwa\n",
      "Enter a name of people you want to invite to a party: Sagar\n",
      "Enter a name of people you want to invite to a party: Dilendra\n",
      "Do you want to add another people? y or ny\n",
      "Enter a name of people you want to invite to a party: Shiv\n",
      "Do you want to add another guest? y/nn\n",
      "4 people are invited to party\n"
     ]
    }
   ],
   "source": [
    "invitee = []\n",
    "guest1 = input(\"Enter a name of people you want to invite to a party: \")\n",
    "invitee.append(guest1)\n",
    "guest2 = input(\"Enter a name of people you want to invite to a party: \")\n",
    "invitee.append(guest2)\n",
    "guest3 = input(\"Enter a name of people you want to invite to a party: \")\n",
    "invitee.append(guest3)\n",
    "another = input(\"Do you want to add another people? y or n: \")\n",
    "while another == 'y':\n",
    "    guest = input(\"Enter a name of people you want to invite to a party: \")\n",
    "    invitee.append(guest)\n",
    "    another = input(\"Do you want to add another guest? y/n: \")\n",
    "else:\n",
    "    print(f\"{len(invitee)} people are invited to party\")"
   ]
  },
  {
   "cell_type": "markdown",
   "id": "86e49dbc",
   "metadata": {},
   "source": [
    "**077.\n",
    "Change program 076 so that once the user has completed their list of names, display the\n",
    "full list and ask them to type in one of the names on the list. Display the position of that\n",
    "name in the list. Ask the user if they still want that person to come to the party. If they\n",
    "answer “no”, delete that entry from the list and display the list again.**"
   ]
  },
  {
   "cell_type": "code",
   "execution_count": 18,
   "id": "0364d314",
   "metadata": {},
   "outputs": [
    {
     "name": "stdout",
     "output_type": "stream",
     "text": [
      "Enter a name of people you want to invite to a party: Ashok\n",
      "Enter a name of people you want to invite to a party: sagar\n",
      "Enter a name of people you want to invite to a party: Mak\n",
      "Do you want to add another people? y or ny\n",
      "Enter a name of people you want to invite to a party: Harsh\n",
      "Do you want to add another guest? y/n: n\n",
      "These ['Ashok', 'sagar', 'Mak', 'Harsh'] are invited to party\n",
      "Enter a name of people from list: sagar\n",
      "Position of sagar in list is at 1\n",
      "Do you still want sagar person to come to the party? y/n: n\n",
      "Updated list of people coming to party: ['Ashok', 'Mak', 'Harsh']\n"
     ]
    }
   ],
   "source": [
    "invitee = []\n",
    "guest1 = input(\"Enter a name of people you want to invite to a party: \")\n",
    "invitee.append(guest1)\n",
    "guest2 = input(\"Enter a name of people you want to invite to a party: \")\n",
    "invitee.append(guest2)\n",
    "guest3 = input(\"Enter a name of people you want to invite to a party: \")\n",
    "invitee.append(guest3)\n",
    "another = input(\"Do you want to add another people? y or n\")\n",
    "while another == 'y':\n",
    "    guest = input(\"Enter a name of people you want to invite to a party: \")\n",
    "    invitee.append(guest)\n",
    "    another = input(\"Do you want to add another guest? y/n: \")\n",
    "else:\n",
    "    print(f\"These {invitee} are invited to party\")\n",
    "    name = input(\"Enter a name of people from list: \")\n",
    "    print(f\"Position of {name} in list is at {invitee.index(name)}\")\n",
    "    confirm = input(f\"Do you still want {name} person to come to the party? y/n: \")\n",
    "    if confirm == 'n' :\n",
    "        invitee.pop(invitee.index(name))\n",
    "        print(f\"Updated list of people coming to party: {invitee}\")"
   ]
  },
  {
   "cell_type": "markdown",
   "id": "69a1fd36",
   "metadata": {},
   "source": [
    "**078.\n",
    "Create a list containing the titles of\n",
    "four TV programmes and display\n",
    "them on separate lines. Ask the\n",
    "user to enter another show and a\n",
    "position they want it inserted into\n",
    "the list. Display the list again,\n",
    "showing all five TV programmes in\n",
    "their new positions.**"
   ]
  },
  {
   "cell_type": "code",
   "execution_count": 21,
   "id": "9eb2c835",
   "metadata": {},
   "outputs": [
    {
     "name": "stdout",
     "output_type": "stream",
     "text": [
      "Bose: Dead/Alive\n",
      "Scam 1992\n",
      "The last Dance\n",
      "When They See Us\n",
      "Enter a name of show to insert in a list: Narcos\n",
      "Enter a number at that position show will be inserted : 3\n",
      "Updated list of TV shows:  ['Bose: Dead/Alive', 'Scam 1992', 'The last Dance', 'Narcos', 'When They See Us']\n"
     ]
    }
   ],
   "source": [
    "tv_shows = [\"Bose: Dead/Alive\", \"Scam 1992\", \"The last Dance\", \"When They See Us\"]\n",
    "for i in tv_shows :\n",
    "    print(i)\n",
    "new_show = input(\"Enter a name of show to insert in a list: \")\n",
    "position = int(input(\"Enter a number at that position show will be inserted : \"))\n",
    "tv_shows.insert(position, new_show)\n",
    "print(\"Updated list of TV shows: \", tv_shows)"
   ]
  },
  {
   "cell_type": "markdown",
   "id": "a5784321",
   "metadata": {},
   "source": [
    "**079.\n",
    "Create an empty list called “nums”.\n",
    "Ask the user to enter numbers.\n",
    "After each number is entered, add\n",
    "it to the end of the nums list and\n",
    "display the list. Once they have\n",
    "entered three numbers, ask them if\n",
    "they still want the last number they\n",
    "entered saved. If they say “no”,\n",
    "remove the last item from the list.\n",
    "Display the list of numbers.**"
   ]
  },
  {
   "cell_type": "code",
   "execution_count": 23,
   "id": "4e22924c",
   "metadata": {},
   "outputs": [
    {
     "name": "stdout",
     "output_type": "stream",
     "text": [
      "Enter numbers: 3\n",
      "Enter numbers: 5\n",
      "Enter numbers: 8\n",
      "List of Numbers:  [3, 5, 8]\n",
      "Do you still want the last number entered saved? y/n: n\n",
      "Final list of Numbers:  [3, 5]\n"
     ]
    }
   ],
   "source": [
    "nums = []\n",
    "for i in range(3):\n",
    "    num = int(input(\"Enter numbers: \"))\n",
    "    nums.append(num)\n",
    "else:\n",
    "    print(\"List of Numbers: \", nums)\n",
    "    last = input(\"Do you still want the last number entered saved? y/n: \")\n",
    "    if last == 'y':\n",
    "        pass\n",
    "    else:\n",
    "        nums.pop()\n",
    "        print(\"Final list of Numbers: \", nums)"
   ]
  },
  {
   "cell_type": "code",
   "execution_count": null,
   "id": "bc7f1a48",
   "metadata": {},
   "outputs": [],
   "source": []
  }
 ],
 "metadata": {
  "kernelspec": {
   "display_name": "Python 3 (ipykernel)",
   "language": "python",
   "name": "python3"
  },
  "language_info": {
   "codemirror_mode": {
    "name": "ipython",
    "version": 3
   },
   "file_extension": ".py",
   "mimetype": "text/x-python",
   "name": "python",
   "nbconvert_exporter": "python",
   "pygments_lexer": "ipython3",
   "version": "3.9.7"
  }
 },
 "nbformat": 4,
 "nbformat_minor": 5
}
