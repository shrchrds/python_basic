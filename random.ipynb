{
 "cells": [
  {
   "cell_type": "code",
   "execution_count": 1,
   "id": "7e77eadb",
   "metadata": {},
   "outputs": [],
   "source": [
    "import random"
   ]
  },
  {
   "cell_type": "markdown",
   "id": "2f45ba70",
   "metadata": {},
   "source": [
    "1. **num = random.random()**\n",
    "\n",
    "Selects a random floating-point number between 0 and 1 and stores it in a variable called “num”. \n",
    "\n",
    "If you want to obtain a larger number, you can multiply it as shown below:\n",
    "\n",
    "import random\n",
    "\n",
    "num = random.random()\n",
    "\n",
    "num = num * 100\n",
    "\n",
    "print(num)"
   ]
  },
  {
   "cell_type": "markdown",
   "id": "2a959200",
   "metadata": {},
   "source": [
    "2. **num = random.randint(0,9)**\n",
    "\n",
    "Selects a random whole number between 0 and 9 (inclusive)."
   ]
  },
  {
   "cell_type": "markdown",
   "id": "005edea8",
   "metadata": {},
   "source": [
    "3. **num = random.randrange(0,100,5)**\n",
    "\n",
    "Picks a random number between the numbers 0 and 100 (inclusive) in steps of five,\n",
    "\n",
    "i.e. it will only pick from 0, 5, 10, 15, 20, etc."
   ]
  },
  {
   "cell_type": "markdown",
   "id": "a8ef3f39",
   "metadata": {},
   "source": [
    "4. **colour = random.choice([“red”,“black”,“green”])**\n",
    "\n",
    "Picks a random value from the options “red”, “black” or “green” and stores it as the variable “colour”. \n",
    "\n",
    "Remember: strings need to include speech marks but numeric data does not."
   ]
  },
  {
   "cell_type": "markdown",
   "id": "5bd42380",
   "metadata": {},
   "source": [
    "**052. Display a\n",
    "random\n",
    "integer\n",
    "between\n",
    "1 and 100\n",
    "inclusive.**"
   ]
  },
  {
   "cell_type": "code",
   "execution_count": 2,
   "id": "92bd4370",
   "metadata": {},
   "outputs": [
    {
     "name": "stdout",
     "output_type": "stream",
     "text": [
      "random integer between 1 and 100 is:  32\n"
     ]
    }
   ],
   "source": [
    "num = random.randint(1,100)\n",
    "print(\"random integer between 1 and 100 is: \", num)"
   ]
  },
  {
   "cell_type": "markdown",
   "id": "13363481",
   "metadata": {},
   "source": [
    "**053.\n",
    "Display a\n",
    "random\n",
    "fruit from\n",
    "a list of\n",
    "five fruits.**"
   ]
  },
  {
   "cell_type": "code",
   "execution_count": 3,
   "id": "18453e3f",
   "metadata": {},
   "outputs": [
    {
     "name": "stdout",
     "output_type": "stream",
     "text": [
      "random fruit from a list of five fruits is : Mango\n"
     ]
    }
   ],
   "source": [
    "fruit = random.choice([\"Apple\", \"Banana\", \"Orange\", \"Mango\", \"Pineapple\"])\n",
    "print(\"random fruit from a list of five fruits is :\", fruit)"
   ]
  },
  {
   "cell_type": "markdown",
   "id": "7b3935f5",
   "metadata": {},
   "source": [
    "**054.\n",
    "Randomly choose either heads or tails (“h” or “t”). Ask\n",
    "the user to make their choice. If their choice is the same\n",
    "as the randomly selected value, display the message\n",
    "“You win”, otherwise display “Bad luck”. At the end, tell\n",
    "the user if the computer selected heads or tails.**"
   ]
  },
  {
   "cell_type": "code",
   "execution_count": 7,
   "id": "c825d519",
   "metadata": {},
   "outputs": [
    {
     "name": "stdout",
     "output_type": "stream",
     "text": [
      "Enter your choice h/t: h\n",
      "Bad luck\n",
      "Computer selected: tails\n"
     ]
    }
   ],
   "source": [
    "random_choice = random.choice([\"h\", \"t\"])\n",
    "user_choice = input(\"Enter your choice h/t: \")\n",
    "if user_choice == random_choice :\n",
    "    print(\"You win\")\n",
    "else:\n",
    "    print(\"Bad luck\")\n",
    "if random_choice == 'h':\n",
    "    print(\"Computer selected: heads \")\n",
    "else:\n",
    "    print(\"Computer selected: tails\")"
   ]
  },
  {
   "cell_type": "markdown",
   "id": "a618147c",
   "metadata": {},
   "source": [
    "**055. \n",
    "Randomly choose a number between 1 and 5. Ask the user to pick a\n",
    "number. If they guess correctly, display the message “Well done”,\n",
    "otherwise tell them if they are too high or too low and ask them to pick a\n",
    "second number. If they guess correctly on their second guess, display\n",
    "“Correct”, otherwise display “You lose”.**"
   ]
  },
  {
   "cell_type": "code",
   "execution_count": 10,
   "id": "1fc3394f",
   "metadata": {},
   "outputs": [
    {
     "name": "stdout",
     "output_type": "stream",
     "text": [
      "choose a number between 1 and 5: 5\n",
      "Too High\n",
      "Try again a number between 1 and 5: 2\n",
      "You lose\n"
     ]
    }
   ],
   "source": [
    "random_num = random.randint(1,5)\n",
    "guess = int(input(\"choose a number between 1 and 5: \"))\n",
    "if guess == random_num :\n",
    "    print(\"Well done\")\n",
    "elif guess < random_num :\n",
    "    print(\"Too Low\")\n",
    "    guess = int(input(\"Try again a number between 1 and 5: \"))\n",
    "    if guess == random_num :\n",
    "        print(\"Correct\")\n",
    "    else:\n",
    "        print(\"You lose\")\n",
    "else:\n",
    "    print(\"Too High\")\n",
    "    guess = int(input(\"Try again a number between 1 and 5: \"))\n",
    "    if guess == random_num :\n",
    "        print(\"Correct\")\n",
    "    else:\n",
    "        print(\"You lose\")"
   ]
  },
  {
   "cell_type": "markdown",
   "id": "b8187cfc",
   "metadata": {},
   "source": [
    "**056.\n",
    "Randomly pick a whole number between 1\n",
    "and 10. Ask the user to enter a number and\n",
    "keep entering numbers until they enter the\n",
    "number that was randomly picked.**"
   ]
  },
  {
   "cell_type": "code",
   "execution_count": 18,
   "id": "df67cf1d",
   "metadata": {},
   "outputs": [
    {
     "name": "stdout",
     "output_type": "stream",
     "text": [
      "Try again a number between 1 and 10: 1\n",
      "Try again a number between 1 and 10: 2\n",
      "Your guess is Correct\n"
     ]
    }
   ],
   "source": [
    "random_number = random.randint(1,10)\n",
    "num = False\n",
    "while num == False :\n",
    "    guess = int(input(\"Try again a number between 1 and 10: \"))\n",
    "    if guess == random_number:\n",
    "        num = True\n",
    "else:\n",
    "    print(\"Your guess is Correct\")"
   ]
  },
  {
   "cell_type": "markdown",
   "id": "003cb6dc",
   "metadata": {},
   "source": [
    "**057.\n",
    "Update\n",
    "program 056\n",
    "so that it\n",
    "tells the\n",
    "user if they\n",
    "are too high\n",
    "or too low\n",
    "before they\n",
    "pick again.**"
   ]
  },
  {
   "cell_type": "code",
   "execution_count": 19,
   "id": "16a6d2e3",
   "metadata": {},
   "outputs": [
    {
     "name": "stdout",
     "output_type": "stream",
     "text": [
      "Try again a number between 1 and 10: 1\n",
      "Too Low\n",
      "Try again a number between 1 and 10: 9\n",
      "Too High\n",
      "Try again a number between 1 and 10: 8\n",
      "Too High\n",
      "Try again a number between 1 and 10: 7\n",
      "Too High\n",
      "Try again a number between 1 and 10: 6\n",
      "Too High\n",
      "Try again a number between 1 and 10: 5\n",
      "Too High\n",
      "Try again a number between 1 and 10: 4\n",
      "Too High\n",
      "Try again a number between 1 and 10: 3\n",
      "Too High\n",
      "Try again a number between 1 and 10: 2\n",
      "Your guess is Correct\n"
     ]
    }
   ],
   "source": [
    "random_number = random.randint(1,10)\n",
    "num = False\n",
    "while num == False :\n",
    "    guess = int(input(\"Try again a number between 1 and 10: \"))\n",
    "    if guess > random_number :\n",
    "        print(\"Too High\")\n",
    "    elif guess < random_number:\n",
    "        print(\"Too Low\")\n",
    "    else:\n",
    "        num = True\n",
    "else:\n",
    "    print(\"Your guess is Correct\")"
   ]
  },
  {
   "cell_type": "markdown",
   "id": "70680b2a",
   "metadata": {},
   "source": [
    "**058.\n",
    "Make a maths quiz that asks five questions by randomly\n",
    "generating two whole numbers to make the question\n",
    "(e.g. [num1] + [num2]). Ask the user to enter the\n",
    "answer. If they get it right add a point to their score. At\n",
    "the end of the quiz, tell them how many they got correct\n",
    "out of five.**"
   ]
  },
  {
   "cell_type": "code",
   "execution_count": 23,
   "id": "b3091b17",
   "metadata": {},
   "outputs": [
    {
     "name": "stdout",
     "output_type": "stream",
     "text": [
      "What is the sum of 12 & 8?: \n",
      "Enter answer of question 1: 20\n",
      "What is the substraction of 12 & 8?: \n",
      "Enter answer of question 2: 4\n",
      "What is the multiplication of 12 & 8?: \n",
      "Enter answer of question 3: 96\n",
      "What is the square of 12 ?: \n",
      "Enter answer of question 4: 144\n",
      "What is the remainder of 12 / 8?: \n",
      "Enter answer of question 5: 4\n",
      "You got correct 5 out of 5\n"
     ]
    }
   ],
   "source": [
    "num1 = random.randint(1,20)\n",
    "num2 = random.randint(1,20)\n",
    "score = 0\n",
    "\n",
    "q1 = print(f\"What is the sum of {num1} & {num2}?: \")\n",
    "a1 = int(input(\"Enter answer of question 1: \"))\n",
    "\n",
    "if a1 == num1 + num2:\n",
    "    score +=1\n",
    "    \n",
    "q2 = print(f\"What is the substraction of {num1} & {num2}?: \")\n",
    "a2 = int(input(\"Enter answer of question 2: \"))\n",
    "\n",
    "if a2 == num1 - num2:\n",
    "    score +=1\n",
    "    \n",
    "q3 = print(f\"What is the multiplication of {num1} & {num2}?: \")\n",
    "a3 = int(input(\"Enter answer of question 3: \"))\n",
    "\n",
    "if a3 == num1 * num2:\n",
    "    score +=1\n",
    "    \n",
    "q4 = print(f\"What is the square of {num1} ?: \")\n",
    "a4 = int(input(\"Enter answer of question 4: \"))\n",
    "\n",
    "if a4 == num1**2:\n",
    "    score +=1\n",
    "    \n",
    "q5 = print(f\"What is the remainder of {num1} / {num2}?: \")\n",
    "a5 = int(input(\"Enter answer of question 5: \"))\n",
    "\n",
    "if a5 == num1 % num2:\n",
    "    score +=1\n",
    "\n",
    "print(f\"You got correct {score} out of 5\")"
   ]
  },
  {
   "cell_type": "markdown",
   "id": "2656cd3b",
   "metadata": {},
   "source": [
    "**059.\n",
    "Display five colours and ask the user to pick one. If they\n",
    "pick the same as the program has chosen, say “Well\n",
    "done”, otherwise display a witty answer which involves\n",
    "the correct colour, e.g. “I bet you are GREEN with envy”\n",
    "or “You are probably feeling BLUE right now”. Ask\n",
    "them to guess again; if they have still not got it right,\n",
    "keep giving them the same clue and ask the user to\n",
    "enter a colour until they guess it correctly.**"
   ]
  },
  {
   "cell_type": "code",
   "execution_count": 27,
   "id": "cd979e0f",
   "metadata": {},
   "outputs": [
    {
     "name": "stdout",
     "output_type": "stream",
     "text": [
      "Pick one color out of red, black, green, yellow and white: \n",
      "Enter a colour: red\n",
      "Just imagine GREEN vegetables\n",
      "Enter a colour: green\n",
      "Well done.\n"
     ]
    }
   ],
   "source": [
    "colour = random.choice([\"red\",\"black\",\"green\",\"yellow\",\"white\"])\n",
    "print(\"Pick one color out of red, black, green, yellow and white: \")\n",
    "next_try = True\n",
    "while next_try == True :\n",
    "    pick = input(\"Enter a colour: \")\n",
    "    if colour == pick.lower() :\n",
    "        print(\"Well done.\")\n",
    "        next_try = False\n",
    "    else:\n",
    "        if colour == \"red\":\n",
    "            print(\"Your eyes are becoming RED\")\n",
    "        elif colour == \"black\":\n",
    "            print(\"Look at your BLACK hair\")\n",
    "        elif colour == \"green\":\n",
    "            print(\"Just imagine GREEN vegetables\")\n",
    "        elif colour == \"yellow\":\n",
    "            print(\"What is the colour of Banana?\")\n",
    "        elif colour == \"white\":\n",
    "            print(\"Do you like WHITE? \")"
   ]
  },
  {
   "cell_type": "code",
   "execution_count": null,
   "id": "e0cadb29",
   "metadata": {},
   "outputs": [],
   "source": []
  }
 ],
 "metadata": {
  "kernelspec": {
   "display_name": "Python 3 (ipykernel)",
   "language": "python",
   "name": "python3"
  },
  "language_info": {
   "codemirror_mode": {
    "name": "ipython",
    "version": 3
   },
   "file_extension": ".py",
   "mimetype": "text/x-python",
   "name": "python",
   "nbconvert_exporter": "python",
   "pygments_lexer": "ipython3",
   "version": "3.9.7"
  }
 },
 "nbformat": 4,
 "nbformat_minor": 5
}
