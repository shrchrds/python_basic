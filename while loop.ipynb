{
 "cells": [
  {
   "cell_type": "markdown",
   "id": "c17b9681",
   "metadata": {},
   "source": [
    "045.\n",
    "Set the total to 0 to start with. While the total is 50 or less, ask\n",
    "the user to input a number. Add that number to the total and\n",
    "print the message “The total is… [total]”. Stop the loop when\n",
    "the total is over 50."
   ]
  },
  {
   "cell_type": "code",
   "execution_count": 1,
   "id": "2b128376",
   "metadata": {},
   "outputs": [
    {
     "name": "stdout",
     "output_type": "stream",
     "text": [
      "Enter a Number: 4\n",
      "The total is 4\n",
      "Enter a Number: 7\n",
      "The total is 11\n",
      "Enter a Number: 12\n",
      "The total is 23\n",
      "Enter a Number: 32\n",
      "The total is 55\n"
     ]
    }
   ],
   "source": [
    "total = 0\n",
    "while total <=50 :\n",
    "    number = int(input(\"Enter a Number: \"))\n",
    "    total += number\n",
    "    print(f\"The total is {total}\")"
   ]
  },
  {
   "cell_type": "markdown",
   "id": "2d6ef04d",
   "metadata": {},
   "source": [
    "046.\n",
    "Ask the user to enter\n",
    "a number. Keep\n",
    "asking until they enter\n",
    "a value over 5 and\n",
    "then display the\n",
    "message “The last\n",
    "number you entered\n",
    "was a [number]” and\n",
    "stop the program."
   ]
  },
  {
   "cell_type": "code",
   "execution_count": 6,
   "id": "9a9f5b1c",
   "metadata": {},
   "outputs": [
    {
     "name": "stdout",
     "output_type": "stream",
     "text": [
      "Enter a Number: 1\n",
      "The last number you entered was a 1\n",
      "Enter a Number: 2\n",
      "The last number you entered was a 2\n",
      "Enter a Number: 3\n",
      "The last number you entered was a 3\n",
      "Enter a Number: 4\n",
      "The last number you entered was a 4\n",
      "Enter a Number: 5\n",
      "The last number you entered was a 5\n",
      "Enter a Number: 6\n",
      "The last number you entered was a 6\n"
     ]
    }
   ],
   "source": [
    "number = 0\n",
    "\n",
    "while number <= 5:\n",
    "    number = int(input(\"Enter a Number: \"))\n",
    "    print(f'The last number you entered was a {number}')\n",
    "    "
   ]
  },
  {
   "cell_type": "markdown",
   "id": "60720444",
   "metadata": {},
   "source": [
    "047.\n",
    "Ask the user to enter a\n",
    "number and then enter\n",
    "another number. Add these\n",
    "two numbers together and\n",
    "then ask if they want to add\n",
    "another number. If they\n",
    "enter “y\", ask them to enter\n",
    "another number and keep\n",
    "adding numbers until they\n",
    "do not answer “y”. Once the\n",
    "loop has stopped, display\n",
    "the total."
   ]
  },
  {
   "cell_type": "code",
   "execution_count": 12,
   "id": "ccf5b0a6",
   "metadata": {},
   "outputs": [
    {
     "name": "stdout",
     "output_type": "stream",
     "text": [
      "Enter a Number1: 3\n",
      "Enter another number: 4\n",
      "Do you want to add another number? y or n: y\n",
      "Enter another number: 5\n",
      "Do you want to add another number? y or n: y\n",
      "Enter another number: 4\n",
      "Do you want to add another number? y or n: n\n",
      "Total addition of all numbers is:  16\n"
     ]
    }
   ],
   "source": [
    "number1 = int(input(\"Enter a Number1: \"))\n",
    "\n",
    "total = number1\n",
    "another_number = 'y'\n",
    "while another_number == 'y':\n",
    "    number2 = int(input(\"Enter another number: \"))\n",
    "    total += number2\n",
    "    another_number = input(\"Do you want to add another number? y or n: \")\n",
    "else:\n",
    "    print(\"Total addition of all numbers is: \", total)"
   ]
  },
  {
   "cell_type": "markdown",
   "id": "069af3c3",
   "metadata": {},
   "source": [
    "048.\n",
    "Ask for the name of somebody the user wants to invite\n",
    "to a party. After this, display the message “[name] has\n",
    "now been invited” and add 1 to the count. Then ask if\n",
    "they want to invite somebody else. Keep repeating this\n",
    "until they no longer want to invite anyone else to the\n",
    "party and then display how many people they have\n",
    "coming to the party."
   ]
  },
  {
   "cell_type": "code",
   "execution_count": 13,
   "id": "bd41055c",
   "metadata": {},
   "outputs": [
    {
     "name": "stdout",
     "output_type": "stream",
     "text": [
      "Enter name of person you want to invite to a party: Shiv\n",
      "Shiv has now been invited.\n",
      "Do you want to invite somebody else? y/n: y\n",
      "Enter name of person you want to invite to a party: Amruta\n",
      "Amruta has now been invited.\n",
      "Do you want to invite somebody else? y/n: y\n",
      "Enter name of person you want to invite to a party: Rohan\n",
      "Rohan has now been invited.\n",
      "Do you want to invite somebody else? y/n: y\n",
      "Enter name of person you want to invite to a party: Pranit\n",
      "Pranit has now been invited.\n",
      "Do you want to invite somebody else? y/n: n\n",
      "Total 4 people coming to the party\n"
     ]
    }
   ],
   "source": [
    "count = 0\n",
    "new_name = 'y'\n",
    "while new_name == 'y':\n",
    "    name = input(\"Enter name of person you want to invite to a party: \")\n",
    "    print(f\"{name} has now been invited.\")\n",
    "    count +=1\n",
    "    new_name = input(\"Do you want to invite somebody else? y/n: \")\n",
    "else:\n",
    "    print(f\"Total {count} people coming to the party\")"
   ]
  },
  {
   "cell_type": "markdown",
   "id": "4b3e60fd",
   "metadata": {},
   "source": [
    "049.\n",
    "Create a variable called\n",
    "compnum and set the value\n",
    "to 50. Ask the user to enter a\n",
    "number. While their guess\n",
    "is not the same as the\n",
    "compnum value, tell them if\n",
    "their guess is too low or too\n",
    "high and ask them to have\n",
    "another guess. If they enter\n",
    "the same value as\n",
    "compnum, display the\n",
    "message “Well done, you\n",
    "took [count] attempts”."
   ]
  },
  {
   "cell_type": "code",
   "execution_count": 14,
   "id": "6eabda5f",
   "metadata": {},
   "outputs": [
    {
     "name": "stdout",
     "output_type": "stream",
     "text": [
      "Enter a Number: 40\n",
      "Your guess it too low\n",
      "Enter a Number: 60\n",
      "Your guess is too high\n",
      "Enter a Number: 55\n",
      "Your guess is too high\n",
      "Enter a Number: 50\n",
      "Well done, you took 3 attempts\n"
     ]
    }
   ],
   "source": [
    "compnum = 50\n",
    "num = int(input(\"Enter a Number: \"))\n",
    "count = 0\n",
    "while num != compnum :\n",
    "    if num < compnum :\n",
    "        print(\"Your guess it too low\")\n",
    "        num = int(input(\"Enter a Number: \"))\n",
    "        count +=1\n",
    "    else:\n",
    "        print(\"Your guess is too high\")\n",
    "        num = int(input(\"Enter a Number: \"))\n",
    "        count +=1\n",
    "else:\n",
    "    print(f\"Well done, you took {count} attempts\")"
   ]
  },
  {
   "cell_type": "markdown",
   "id": "aec89716",
   "metadata": {},
   "source": [
    "050.\n",
    "Ask the user to enter a number between\n",
    "10 and 20. If they enter a value under 10,\n",
    "display the message “Too low” and ask\n",
    "them to try again. If they enter a value\n",
    "above 20, display the message “Too high”\n",
    "and ask them to try again. Keep repeating\n",
    "this until they enter a value that is\n",
    "between 10 and 20 and then display the\n",
    "message “Thank you”."
   ]
  },
  {
   "cell_type": "code",
   "execution_count": 15,
   "id": "d560e3f0",
   "metadata": {},
   "outputs": [
    {
     "name": "stdout",
     "output_type": "stream",
     "text": [
      "Enter a Number between 10 and 20: 9\n",
      "Too low\n",
      "Try Again. Enter a Number: 23\n",
      "Too high\n",
      "Try Again. Enter a Number: 15\n",
      "Thank you\n"
     ]
    }
   ],
   "source": [
    "num = int(input(\"Enter a Number between 10 and 20: \"))\n",
    "while num < 10 or num > 20 :\n",
    "    if num < 10 :\n",
    "        print(\"Too low\")\n",
    "        num = int(input(\"Try Again. Enter a Number: \"))\n",
    "    elif num > 20 :\n",
    "        print(\"Too high\")\n",
    "        num = int(input(\"Try Again. Enter a Number: \"))\n",
    "else:\n",
    "    print(\"Thank you\")"
   ]
  },
  {
   "cell_type": "markdown",
   "id": "f2101ff2",
   "metadata": {},
   "source": [
    "051.\n",
    "Using the song “10 green bottles”, display the lines “There are [num] green bottles\n",
    "hanging on the wall, [num] green bottles hanging on the wall, and if 1 green bottle\n",
    "should accidentally fall”. Then ask the question “how many green bottles will be\n",
    "hanging on the wall?” If the user answers correctly, display the message “There will be\n",
    "[num] green bottles hanging on the wall”. If they answer incorrectly, display the\n",
    "message “No, try again” until they get it right. When the number of green bottles gets\n",
    "down to 0, display the message “There are no more green bottles hanging on the wall”."
   ]
  },
  {
   "cell_type": "code",
   "execution_count": 17,
   "id": "eb4f3984",
   "metadata": {},
   "outputs": [
    {
     "name": "stdout",
     "output_type": "stream",
     "text": [
      "There are 10 green bottles hanging on the wall.\n",
      "if 1 green bottle should accidentally fall\n",
      "How many green bottles will be hanging on the wall?: 5\n",
      "No, try again6\n",
      "No, try again8\n",
      "No, try again9\n",
      "There are 9 green bottles hanging on the wall.\n",
      "if 1 green bottle should accidentally fall\n",
      "How many green bottles will be hanging on the wall?: 8\n",
      "There will be 8 green bottles hanging on the wall\n",
      "There are 8 green bottles hanging on the wall.\n",
      "if 1 green bottle should accidentally fall\n",
      "How many green bottles will be hanging on the wall?: 7\n",
      "There will be 7 green bottles hanging on the wall\n",
      "There are 7 green bottles hanging on the wall.\n",
      "if 1 green bottle should accidentally fall\n",
      "How many green bottles will be hanging on the wall?: 6\n",
      "There will be 6 green bottles hanging on the wall\n",
      "There are 6 green bottles hanging on the wall.\n",
      "if 1 green bottle should accidentally fall\n",
      "How many green bottles will be hanging on the wall?: 5\n",
      "There will be 5 green bottles hanging on the wall\n",
      "There are 5 green bottles hanging on the wall.\n",
      "if 1 green bottle should accidentally fall\n",
      "How many green bottles will be hanging on the wall?: 4\n",
      "There will be 4 green bottles hanging on the wall\n",
      "There are 4 green bottles hanging on the wall.\n",
      "if 1 green bottle should accidentally fall\n",
      "How many green bottles will be hanging on the wall?: 3\n",
      "There will be 3 green bottles hanging on the wall\n",
      "There are 3 green bottles hanging on the wall.\n",
      "if 1 green bottle should accidentally fall\n",
      "How many green bottles will be hanging on the wall?: 2\n",
      "There will be 2 green bottles hanging on the wall\n",
      "There are 2 green bottles hanging on the wall.\n",
      "if 1 green bottle should accidentally fall\n",
      "How many green bottles will be hanging on the wall?: 1\n",
      "There will be 1 green bottles hanging on the wall\n",
      "There are 1 green bottles hanging on the wall.\n",
      "if 1 green bottle should accidentally fall\n",
      "How many green bottles will be hanging on the wall?: 0\n",
      "There will be 0 green bottles hanging on the wall\n",
      "There are no green bottles hangin on the wall.\n"
     ]
    }
   ],
   "source": [
    "green_bottles = 10\n",
    "while green_bottles > 0 :\n",
    "    print(f\"There are {green_bottles} green bottles hanging on the wall.\")\n",
    "    print(\"if 1 green bottle should accidentally fall\")\n",
    "    green_bottles = green_bottles - 1\n",
    "    guess = int(input(\"How many green bottles will be hanging on the wall?: \"))\n",
    "    if guess == green_bottles :\n",
    "        print(f\"There will be {green_bottles} green bottles hanging on the wall\")\n",
    "    else:\n",
    "        while guess != green_bottles :\n",
    "            guess = int(input(\"No, try again\"))\n",
    "else:\n",
    "    print(\"There are no green bottles hangin on the wall.\")"
   ]
  },
  {
   "cell_type": "code",
   "execution_count": null,
   "id": "984aa8b4",
   "metadata": {},
   "outputs": [],
   "source": []
  }
 ],
 "metadata": {
  "kernelspec": {
   "display_name": "Python 3 (ipykernel)",
   "language": "python",
   "name": "python3"
  },
  "language_info": {
   "codemirror_mode": {
    "name": "ipython",
    "version": 3
   },
   "file_extension": ".py",
   "mimetype": "text/x-python",
   "name": "python",
   "nbconvert_exporter": "python",
   "pygments_lexer": "ipython3",
   "version": "3.9.7"
  }
 },
 "nbformat": 4,
 "nbformat_minor": 5
}
