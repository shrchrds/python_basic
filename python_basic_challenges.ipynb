{
 "cells": [
  {
   "cell_type": "markdown",
   "id": "d83c7191",
   "metadata": {},
   "source": [
    "### 1. Basic Python Programs"
   ]
  },
  {
   "cell_type": "markdown",
   "id": "8b52ab14",
   "metadata": {},
   "source": [
    "Ask for the user’s first name and\n",
    "display the output message\n",
    "Hello [First Name] ."
   ]
  },
  {
   "cell_type": "code",
   "execution_count": 1,
   "id": "2d4bb940",
   "metadata": {},
   "outputs": [
    {
     "name": "stdout",
     "output_type": "stream",
     "text": [
      "Enter first Name: SHivanand\n",
      "Hellow SHivanand\n"
     ]
    }
   ],
   "source": [
    "name = input(\"Enter first Name: \")\n",
    "print(\"Hellow {}\".format(name))"
   ]
  },
  {
   "cell_type": "markdown",
   "id": "929dc091",
   "metadata": {},
   "source": [
    "Ask for the user’s first name and then ask for\n",
    "their surname and display the output message\n",
    "Hello [First Name] [Surname]."
   ]
  },
  {
   "cell_type": "code",
   "execution_count": 3,
   "id": "18e1a0be",
   "metadata": {
    "scrolled": true
   },
   "outputs": [
    {
     "name": "stdout",
     "output_type": "stream",
     "text": [
      "Enter first Name: shiv\n",
      "Enter Sir Name: ekatpure\n",
      "Hello shiv ekatpure\n"
     ]
    }
   ],
   "source": [
    "name = input(\"Enter first Name: \")\n",
    "sirname = input(\"Enter Sir Name: \")\n",
    "print(\"Hello {} {}\".format(name, sirname))"
   ]
  },
  {
   "cell_type": "markdown",
   "id": "55284f61",
   "metadata": {},
   "source": [
    "Write code that will display the joke “What do you call a bear with no\n",
    "teeth?” and on the next line display the answer “A gummy bear!” Try to\n",
    "create it using only one line of code."
   ]
  },
  {
   "cell_type": "code",
   "execution_count": 4,
   "id": "09cde67b",
   "metadata": {},
   "outputs": [
    {
     "name": "stdout",
     "output_type": "stream",
     "text": [
      "What do you call a bear with no teeth?\n",
      "A gummy bear!\n"
     ]
    }
   ],
   "source": [
    "print(\"What do you call a bear with no teeth?\\nA gummy bear!\")"
   ]
  },
  {
   "cell_type": "markdown",
   "id": "d5bb0799",
   "metadata": {},
   "source": [
    "Ask the user to enter\n",
    "two numbers. Add\n",
    "them together and\n",
    "display the answer as\n",
    "The total is\n",
    "[answer]."
   ]
  },
  {
   "cell_type": "code",
   "execution_count": 6,
   "id": "9da7bd32",
   "metadata": {},
   "outputs": [
    {
     "name": "stdout",
     "output_type": "stream",
     "text": [
      "Enter a Number 1: 2\n",
      "Enter a Number 2: 3\n",
      "The total is: 5\n"
     ]
    }
   ],
   "source": [
    "n1 = int(input(\"Enter a Number 1: \"))\n",
    "n2 = int(input(\"Enter a Number 2: \"))\n",
    "print(f\"The total is: {n1 + n2}\")"
   ]
  },
  {
   "cell_type": "markdown",
   "id": "07306892",
   "metadata": {},
   "source": [
    "Ask the user to enter three\n",
    "numbers. Add together the first\n",
    "two numbers and then multiply\n",
    "this total by the third. Display the\n",
    "answer as The answer is\n",
    "[answer]."
   ]
  },
  {
   "cell_type": "code",
   "execution_count": 7,
   "id": "013463d3",
   "metadata": {},
   "outputs": [
    {
     "name": "stdout",
     "output_type": "stream",
     "text": [
      "Enter a Number 1: 2\n",
      "Enter a Number 2: 3\n",
      "Enter a Number 3: 4\n",
      "The answer is: 20\n"
     ]
    }
   ],
   "source": [
    "n1 = int(input(\"Enter a Number 1: \"))\n",
    "n2 = int(input(\"Enter a Number 2: \"))\n",
    "n3 = int(input(\"Enter a Number 3: \"))\n",
    "print(f\"The answer is: {(n1 + n2)*n3}\")"
   ]
  },
  {
   "cell_type": "markdown",
   "id": "079f13dd",
   "metadata": {},
   "source": [
    "Ask how many slices\n",
    "of pizza the user\n",
    "started with and ask\n",
    "how many slices\n",
    "they have eaten.\n",
    "Work out how many\n",
    "slices they have left\n",
    "and display the\n",
    "answer in a userfriendly\n",
    "format."
   ]
  },
  {
   "cell_type": "code",
   "execution_count": 8,
   "id": "ea7882c8",
   "metadata": {},
   "outputs": [
    {
     "name": "stdout",
     "output_type": "stream",
     "text": [
      "how many slices of pizza started with? 10\n",
      " how many slices they have eaten? 9\n",
      "1 slices of pizza are left\n"
     ]
    }
   ],
   "source": [
    "started_pizza = input(\"how many slices of pizza started with? \")\n",
    "eaten_pizza = input(\" how many slices they have eaten? \")\n",
    "left_pizza = int(started_pizza) - int(eaten_pizza)\n",
    "print(f\"{left_pizza} slices of pizza are left\")"
   ]
  },
  {
   "cell_type": "markdown",
   "id": "e7f61e0e",
   "metadata": {},
   "source": [
    "Ask the user for their name and their age. Add 1 to their age\n",
    "and display the output [Name] next birthday you\n",
    "will be [new age]."
   ]
  },
  {
   "cell_type": "code",
   "execution_count": 9,
   "id": "170cf268",
   "metadata": {},
   "outputs": [
    {
     "name": "stdout",
     "output_type": "stream",
     "text": [
      "Enter your Name: Shivanand\n",
      "Enter your current age: 32\n",
      "Shivanand next birthday you will be 33\n"
     ]
    }
   ],
   "source": [
    "name = input(\"Enter your Name: \")\n",
    "age = int(input(\"Enter your current age: \"))\n",
    "print(f\"{name} next birthday you will be {age + 1}\")"
   ]
  },
  {
   "cell_type": "markdown",
   "id": "25f149b0",
   "metadata": {},
   "source": [
    "Ask for the total price of the bill, then ask how\n",
    "many diners there are. Divide the total bill by the\n",
    "number of diners and show how much each\n",
    "person must pay."
   ]
  },
  {
   "cell_type": "code",
   "execution_count": 10,
   "id": "15b2535e",
   "metadata": {},
   "outputs": [
    {
     "name": "stdout",
     "output_type": "stream",
     "text": [
      "Enter total price of bill: 200\n",
      "Enter how many diners are there? 4\n",
      "Each person should pay 50.0 rupees\n"
     ]
    }
   ],
   "source": [
    "total_bill = int(input(\"Enter total price of bill: \"))\n",
    "no_of_dinners = int(input(\"Enter how many diners are there? \"))\n",
    "print(f\"Each person should pay {total_bill/no_of_dinners} rupees\")"
   ]
  },
  {
   "cell_type": "markdown",
   "id": "55f8ca30",
   "metadata": {},
   "source": [
    "Write a program\n",
    "that will ask for a\n",
    "number of days\n",
    "and then will\n",
    "show how many\n",
    "hours, minutes\n",
    "and seconds are\n",
    "in that number of\n",
    "days."
   ]
  },
  {
   "cell_type": "code",
   "execution_count": 12,
   "id": "3fa57fd8",
   "metadata": {},
   "outputs": [
    {
     "name": "stdout",
     "output_type": "stream",
     "text": [
      "Enter number of days: 1\n",
      "In 1 days, there are 24 hours, 1440 minutes, 86400 seconds\n"
     ]
    }
   ],
   "source": [
    "no_of_days = int(input(\"Enter number of days: \"))\n",
    "hrs = no_of_days * 24\n",
    "minutes = hrs * 60\n",
    "seconds = minutes * 60\n",
    "print(f\"In {no_of_days} days, there are {hrs} hours, {minutes} minutes, {seconds} seconds\")"
   ]
  },
  {
   "cell_type": "markdown",
   "id": "f5de9f16",
   "metadata": {},
   "source": [
    "There are 2,204 pounds in a kilogram. Ask the\n",
    "user to enter a weight in kilograms and convert it\n",
    "to pounds."
   ]
  },
  {
   "cell_type": "code",
   "execution_count": 13,
   "id": "00eeb4ff",
   "metadata": {},
   "outputs": [
    {
     "name": "stdout",
     "output_type": "stream",
     "text": [
      "Enter weight in Kgs1\n",
      "for 1 Kg weight in pounds is : 2204\n"
     ]
    }
   ],
   "source": [
    "weight_in_kg = int(input(\"Enter weight in Kgs\"))\n",
    "weight_in_pounds = weight_in_kg * 2204\n",
    "print(f\"for {weight_in_kg} Kg weight in pounds is : {weight_in_pounds}\")"
   ]
  },
  {
   "cell_type": "markdown",
   "id": "34e61e33",
   "metadata": {},
   "source": [
    "Task the user to enter a number over 100 and then enter a number under\n",
    "10 and tell them how many times the smaller number goes into the larger\n",
    "number in a user-friendly format."
   ]
  },
  {
   "cell_type": "code",
   "execution_count": 15,
   "id": "b4fd6ee8",
   "metadata": {},
   "outputs": [
    {
     "name": "stdout",
     "output_type": "stream",
     "text": [
      "Enter a number over 100: 200\n",
      "Enter a number under 10: 5\n",
      "40 many times 5 goes into 200\n"
     ]
    }
   ],
   "source": [
    "num100 = int(input(\"Enter a number over 100: \"))\n",
    "num10 = int(input(\"Enter a number under 10: \"))\n",
    "print(f\"{num100//num10} many times {num10} goes into {num100}\")"
   ]
  },
  {
   "cell_type": "markdown",
   "id": "801c4883",
   "metadata": {},
   "source": [
    "## 2. If statements"
   ]
  },
  {
   "cell_type": "markdown",
   "id": "c4185838",
   "metadata": {},
   "source": [
    "012.\n",
    "Ask for two numbers. If\n",
    "the first one is larger\n",
    "than the second, display\n",
    "the second number first\n",
    "and then the first\n",
    "number, otherwise show\n",
    "the first number first and\n",
    "then the second."
   ]
  },
  {
   "cell_type": "code",
   "execution_count": 16,
   "id": "6a4f9776",
   "metadata": {},
   "outputs": [
    {
     "name": "stdout",
     "output_type": "stream",
     "text": [
      "Enter a Number 1: 10\n",
      "Enter a Number 2: 20\n",
      "10 20\n"
     ]
    }
   ],
   "source": [
    "n1 = int(input(\"Enter a Number 1: \"))\n",
    "n2 = int(input(\"Enter a Number 2: \"))\n",
    "if n1 > n2 :\n",
    "    print(n2, n1)\n",
    "else:\n",
    "    print(n1, n2)"
   ]
  },
  {
   "cell_type": "markdown",
   "id": "d029aec0",
   "metadata": {},
   "source": [
    "Ask the user to enter a\n",
    "number that is under\n",
    "20. If they enter a\n",
    "number that is 20 or\n",
    "more, display the\n",
    "message “Too high”,\n",
    "otherwise display\n",
    "“Thank you”."
   ]
  },
  {
   "cell_type": "code",
   "execution_count": 18,
   "id": "ed808f0d",
   "metadata": {},
   "outputs": [
    {
     "name": "stdout",
     "output_type": "stream",
     "text": [
      "Enter a Number under 20 : 12\n",
      "Thank you\n"
     ]
    }
   ],
   "source": [
    "num = int(input(\"Enter a Number under 20 : \"))\n",
    "if num >=20 :\n",
    "    print(\"Too high\")\n",
    "else:\n",
    "    print(\"Thank you\")"
   ]
  },
  {
   "cell_type": "markdown",
   "id": "ea991ea9",
   "metadata": {},
   "source": [
    "Ask the user to enter a\n",
    "number between 10 and 20\n",
    "(inclusive). If they enter a\n",
    "number within this range,\n",
    "display the message “Thank\n",
    "you”, otherwise display the\n",
    "message “Incorrect\n",
    "answer”."
   ]
  },
  {
   "cell_type": "code",
   "execution_count": 21,
   "id": "66349e17",
   "metadata": {},
   "outputs": [
    {
     "name": "stdout",
     "output_type": "stream",
     "text": [
      "Enter a Number between 10 & 20 : 21\n",
      "Incorrect answer\n"
     ]
    }
   ],
   "source": [
    "num = int(input(\"Enter a Number between 10 & 20 : \"))\n",
    "if num <=20 and num >=10 :\n",
    "    print(\"Thank you\")\n",
    "else:\n",
    "    print(\"Incorrect answer\")"
   ]
  },
  {
   "cell_type": "markdown",
   "id": "88c33e5c",
   "metadata": {},
   "source": [
    "015.\n",
    "Ask the user to enter their favourite colour. If they enter “red”, “RED” or\n",
    "“Red” display the message “I like red too”, otherwise display the message\n",
    "“I don’t like [colour], I prefer red”."
   ]
  },
  {
   "cell_type": "code",
   "execution_count": 24,
   "id": "7202b817",
   "metadata": {},
   "outputs": [
    {
     "name": "stdout",
     "output_type": "stream",
     "text": [
      "enter your favourite colourblack\n",
      "I don’t like black, I prefer red”.\n"
     ]
    }
   ],
   "source": [
    "col = input(\"enter your favourite colour\")\n",
    "if col == 'Red' or col == 'RED' or col == 'red':\n",
    "    print(\"I like red too\")\n",
    "else:\n",
    "    print(f\"I don’t like {col}, I prefer red”.\")"
   ]
  },
  {
   "cell_type": "markdown",
   "id": "c06c694f",
   "metadata": {},
   "source": [
    "016. \n",
    "Ask the user if it is raining and convert their answer to lower case\n",
    "so it doesn’t matter what case they type it in. If they answer “yes”,\n",
    "ask if it is windy. If they answer “yes” to this second question,\n",
    "display the answer “It is too windy for an umbrella”, otherwise\n",
    "display the message “Take an umbrella”. If they did not answer yes\n",
    "to the first question, display the answer “Enjoy your day”."
   ]
  },
  {
   "cell_type": "code",
   "execution_count": 30,
   "id": "cb438936",
   "metadata": {},
   "outputs": [
    {
     "name": "stdout",
     "output_type": "stream",
     "text": [
      "is it raining? no\n",
      "Enjoy your day\n"
     ]
    }
   ],
   "source": [
    "raining = (input(\"is it raining? \")).lower()\n",
    "if raining == 'yes':\n",
    "    windy = (input(\"is it windy? \")).lower()\n",
    "    if windy == 'yes':\n",
    "        print(\"It is too windy for an umbrella\")\n",
    "    else:\n",
    "        print(\"Take an umbrella\")\n",
    "else:\n",
    "    print(\"Enjoy your day\")"
   ]
  },
  {
   "cell_type": "markdown",
   "id": "97ee1e47",
   "metadata": {},
   "source": [
    "017.\n",
    "Ask the user’s age. If they\n",
    "are 18 or over, display the\n",
    "message “You can vote”, if\n",
    "they are aged 17, display the\n",
    "message “You can learn to\n",
    "drive”, if they are 16, display\n",
    "the message “You can buy a\n",
    "lottery ticket”, if they are\n",
    "under 16, display the\n",
    "message “You can go Trickor-\n",
    "Treating”."
   ]
  },
  {
   "cell_type": "code",
   "execution_count": 35,
   "id": "91b8f080",
   "metadata": {},
   "outputs": [
    {
     "name": "stdout",
     "output_type": "stream",
     "text": [
      "Enter your age: 5\n",
      "You can go Trickor- Treating\n"
     ]
    }
   ],
   "source": [
    "age = int(input(\"Enter your age: \"))\n",
    "if age >= 18 :\n",
    "    print(\"You can vote\")\n",
    "elif age == 17 :\n",
    "    print(\"You can learn to drive\")\n",
    "elif age == 16 :\n",
    "    print(\"You can buy a lottery ticket\")\n",
    "else:\n",
    "    print(\"You can go Trickor- Treating\")"
   ]
  },
  {
   "cell_type": "markdown",
   "id": "6e20f51d",
   "metadata": {},
   "source": [
    "018. \n",
    "Ask the user to enter a number. If it is under 10,\n",
    "display the message “Too low”, if their number is\n",
    "between 10 and 20, display “Correct”, otherwise\n",
    "display “Too high”."
   ]
  },
  {
   "cell_type": "code",
   "execution_count": 38,
   "id": "1196b25e",
   "metadata": {},
   "outputs": [
    {
     "name": "stdout",
     "output_type": "stream",
     "text": [
      "Enter a Number: 21\n",
      "Too high\n"
     ]
    }
   ],
   "source": [
    "num = int(input(\"Enter a Number: \"))\n",
    "if num < 10 :\n",
    "    print(\"Too low\")\n",
    "elif num > 10 and num < 20 :\n",
    "    print(\"Correct\")\n",
    "else:\n",
    "    print(\"Too high\")"
   ]
  },
  {
   "cell_type": "markdown",
   "id": "bca2d162",
   "metadata": {},
   "source": [
    "019.\n",
    "Ask the user to enter 1, 2 or 3. If they enter a 1, display\n",
    "the message “Thank you”, if they enter a 2, display\n",
    "“Well done”, if they enter a 3, display “Correct”. If\n",
    "they enter anything else, display “Error message”."
   ]
  },
  {
   "cell_type": "code",
   "execution_count": 44,
   "id": "04db72b3",
   "metadata": {},
   "outputs": [
    {
     "name": "stdout",
     "output_type": "stream",
     "text": [
      "Enter a Number 1, 2 or 3: 1\n",
      "Thank You\n"
     ]
    }
   ],
   "source": [
    "num = input(\"Enter a Number 1, 2 or 3: \")\n",
    "if num == \"1\" :\n",
    "    print(\"Thank You\")\n",
    "elif num == \"2\" :\n",
    "    print(\"Well done\")\n",
    "elif num == \"3\" :\n",
    "    print(\"Correct\")"
   ]
  },
  {
   "cell_type": "markdown",
   "id": "652fd9df",
   "metadata": {},
   "source": [
    "### 3. string"
   ]
  },
  {
   "cell_type": "code",
   "execution_count": 45,
   "id": "cb723417",
   "metadata": {},
   "outputs": [
    {
     "data": {
      "text/plain": [
       "'\"'"
      ]
     },
     "execution_count": 45,
     "metadata": {},
     "output_type": "execute_result"
    }
   ],
   "source": [
    "\"\\\"\""
   ]
  },
  {
   "cell_type": "code",
   "execution_count": 46,
   "id": "5731bd42",
   "metadata": {},
   "outputs": [
    {
     "data": {
      "text/plain": [
       "\"'\""
      ]
     },
     "execution_count": 46,
     "metadata": {},
     "output_type": "execute_result"
    }
   ],
   "source": [
    "\"\\'\""
   ]
  },
  {
   "cell_type": "code",
   "execution_count": 47,
   "id": "acd39671",
   "metadata": {},
   "outputs": [
    {
     "data": {
      "text/plain": [
       "'\\\\'"
      ]
     },
     "execution_count": 47,
     "metadata": {},
     "output_type": "execute_result"
    }
   ],
   "source": [
    "\"\\\\\""
   ]
  },
  {
   "cell_type": "code",
   "execution_count": 49,
   "id": "6f4ca5f7",
   "metadata": {},
   "outputs": [
    {
     "name": "stdout",
     "output_type": "stream",
     "text": [
      "\\\n"
     ]
    }
   ],
   "source": [
    "print(\"\\\\\")"
   ]
  },
  {
   "cell_type": "markdown",
   "id": "9718f581",
   "metadata": {},
   "source": [
    "020.\n",
    "Ask the user to enter\n",
    "their first name and\n",
    "then display the\n",
    "length of their name."
   ]
  },
  {
   "cell_type": "code",
   "execution_count": 50,
   "id": "f36ca5fe",
   "metadata": {},
   "outputs": [
    {
     "name": "stdout",
     "output_type": "stream",
     "text": [
      "enter your first nameShivanand\n",
      "Length of name is : 9\n"
     ]
    }
   ],
   "source": [
    "name = input(\"enter your first name: \")\n",
    "print(\"Length of name is : {}\".format(len(col)))"
   ]
  },
  {
   "cell_type": "markdown",
   "id": "3f558a09",
   "metadata": {},
   "source": [
    "021.\n",
    "Ask the user to enter their first name and then ask them to\n",
    "enter their surname. Join them together with a space between\n",
    "and display the name and the length of whole name."
   ]
  },
  {
   "cell_type": "code",
   "execution_count": 52,
   "id": "76237939",
   "metadata": {},
   "outputs": [
    {
     "name": "stdout",
     "output_type": "stream",
     "text": [
      "enter your first name: shiv\n",
      "enter your surname: ekatpure\n",
      "shiv ekatpure\n"
     ]
    }
   ],
   "source": [
    "name = input(\"enter your first name: \")\n",
    "surname = input(\"enter your surname: \")\n",
    "print(\"{} {}\".format(name, surname))"
   ]
  },
  {
   "cell_type": "markdown",
   "id": "3ff2f33b",
   "metadata": {},
   "source": [
    "022.\n",
    "Ask the user to enter their first name and surname in lower\n",
    "case. Change the case to title case and join them together.\n",
    "Display the finished result."
   ]
  },
  {
   "cell_type": "code",
   "execution_count": 1,
   "id": "aa012e9c",
   "metadata": {},
   "outputs": [
    {
     "name": "stdout",
     "output_type": "stream",
     "text": [
      "enter your first name in lower case: shivanand\n",
      "enter your surname in lower case: ekatpure\n",
      "Shivanand Ekatpure\n"
     ]
    }
   ],
   "source": [
    "name = input(\"enter your first name in lower case: \")\n",
    "surname = input(\"enter your surname in lower case: \")\n",
    "full_name = name.title() + \" \" + surname.title()\n",
    "print(full_name)"
   ]
  },
  {
   "cell_type": "markdown",
   "id": "b3e0be19",
   "metadata": {},
   "source": [
    "023.\n",
    "Ask the user to type in the first\n",
    "line of a nursery rhyme and\n",
    "display the length of the string.\n",
    "Ask for a starting number and an\n",
    "ending number and then display\n",
    "just that section of the text\n",
    "(remember Python starts\n",
    "counting from 0 and not 1)."
   ]
  },
  {
   "cell_type": "code",
   "execution_count": 19,
   "id": "7de10536",
   "metadata": {},
   "outputs": [
    {
     "name": "stdout",
     "output_type": "stream",
     "text": [
      "type in the first line of a nursery rhyme and display the length of the string :  Jingle Bell\n",
      "11  is lenght of entered line.\n",
      "Enter starting number:  1\n",
      "Enter Ending number:  4\n",
      "Jing\n"
     ]
    }
   ],
   "source": [
    "nursery_rhyme = input(\"type in the first line of a nursery rhyme and display the length of the string :  \")\n",
    "print(len(nursery_rhyme),\" is lenght of entered line.\")\n",
    "start_num = int(input(\"Enter starting number:  \"))\n",
    "end_num = int(input(\"Enter Ending number:  \"))\n",
    "print(nursery_rhyme[start_num - 1 :end_num])"
   ]
  },
  {
   "cell_type": "markdown",
   "id": "1f701eb7",
   "metadata": {},
   "source": [
    "024.\n",
    "Ask the user to type in any word and display it in\n",
    "upper case."
   ]
  },
  {
   "cell_type": "code",
   "execution_count": 10,
   "id": "7314a8e7",
   "metadata": {},
   "outputs": [
    {
     "name": "stdout",
     "output_type": "stream",
     "text": [
      "Enter any word: hare krishna\n",
      "HARE KRISHNA\n"
     ]
    }
   ],
   "source": [
    "word = input(\"Enter any word: \")\n",
    "print(word.upper())"
   ]
  },
  {
   "cell_type": "markdown",
   "id": "a4d357da",
   "metadata": {},
   "source": [
    "025.\n",
    "Ask the user to enter their first name. If the length\n",
    "of their first name is under five characters, ask\n",
    "them to enter their surname and join them\n",
    "together (without a space) and display the name\n",
    "in upper case. If the length of the first name is five\n",
    "or more characters, display their first name in\n",
    "lower case."
   ]
  },
  {
   "cell_type": "code",
   "execution_count": 12,
   "id": "0a119196",
   "metadata": {},
   "outputs": [
    {
     "name": "stdout",
     "output_type": "stream",
     "text": [
      "Enter your first name: Shree\n",
      "shree\n"
     ]
    }
   ],
   "source": [
    "first_name = input(\"Enter your first name: \")\n",
    "if len(first_name) < 5 :\n",
    "    surname = input(\"Enter your surname: \")\n",
    "    name = first_name + surname\n",
    "    print(name.upper())\n",
    "else:\n",
    "    print(first_name.lower())"
   ]
  },
  {
   "cell_type": "markdown",
   "id": "e8e7b079",
   "metadata": {},
   "source": [
    "026.\n",
    "Pig Latin takes the first consonant of a word,\n",
    "moves it to the end of the word and adds on an\n",
    "“ay”. If a word begins with a vowel you just add\n",
    "“way” to the end. For example, pig becomes igpay,\n",
    "banana becomes ananabay, and aadvark becomes\n",
    "aadvarkway. Create a program that will ask the\n",
    "user to enter a word and change it into Pig Latin.\n",
    "Make sure the new word is displayed in lower case."
   ]
  },
  {
   "cell_type": "code",
   "execution_count": 16,
   "id": "68d5c68b",
   "metadata": {
    "scrolled": true
   },
   "outputs": [
    {
     "name": "stdout",
     "output_type": "stream",
     "text": [
      "Enter any word: aadvark\n",
      "aadvarkway\n"
     ]
    }
   ],
   "source": [
    "word = input(\"Enter any word: \")\n",
    "if word[0] not in \"aeiou\":\n",
    "    new_word = word[1:] + word[0] + \"ay\"\n",
    "else:\n",
    "    new_word = word + \"way\"\n",
    "new_word = new_word.lower()\n",
    "print(new_word)"
   ]
  },
  {
   "cell_type": "markdown",
   "id": "1c4d2e6a",
   "metadata": {},
   "source": [
    "### 4. Maths Programs"
   ]
  },
  {
   "cell_type": "markdown",
   "id": "132af24e",
   "metadata": {},
   "source": [
    "027.\n",
    "Ask the user to enter a\n",
    "number with lots of\n",
    "decimal places. Multiply\n",
    "this number by two and\n",
    "display the answer."
   ]
  },
  {
   "cell_type": "code",
   "execution_count": 21,
   "id": "d17f886e",
   "metadata": {},
   "outputs": [
    {
     "name": "stdout",
     "output_type": "stream",
     "text": [
      "Enter a number with lots of decimal places : 3.4145123453446564\n",
      "Given Number multiplied by 2 is:  6.829024690689312\n"
     ]
    }
   ],
   "source": [
    "number = float(input(\"Enter a number with lots of decimal places : \"))\n",
    "print(\"Given Number multiplied by 2 is: \", number * 2)"
   ]
  },
  {
   "cell_type": "markdown",
   "id": "464c1bae",
   "metadata": {},
   "source": [
    "028. \n",
    "Update program 027 so that it will display the answer to\n",
    "two decimal places."
   ]
  },
  {
   "cell_type": "code",
   "execution_count": 27,
   "id": "620fe4e1",
   "metadata": {},
   "outputs": [
    {
     "name": "stdout",
     "output_type": "stream",
     "text": [
      "6.83  is an answer in two decimal places\n"
     ]
    }
   ],
   "source": [
    "print(round(number * 2, 2), \" is an answer in two decimal places\")"
   ]
  },
  {
   "cell_type": "markdown",
   "id": "4ae184e1",
   "metadata": {},
   "source": [
    "029\n",
    "Ask the user to enter an integer that is over 500. Work\n",
    "out the square root of that number and display it to two decimal places."
   ]
  },
  {
   "cell_type": "code",
   "execution_count": 29,
   "id": "03d303ae",
   "metadata": {},
   "outputs": [
    {
     "name": "stdout",
     "output_type": "stream",
     "text": [
      "Enter a Number more than 500 : 600\n",
      "Square root of  600 is:  24.49\n"
     ]
    }
   ],
   "source": [
    "import math\n",
    "num = int(input(\"Enter a Number more than 500 : \"))\n",
    "square_root = math.sqrt(num)\n",
    "print(\"Square root of \", num, \"is: \", round(square_root,2))"
   ]
  },
  {
   "cell_type": "markdown",
   "id": "18628660",
   "metadata": {},
   "source": [
    "30. Display pi (π) to five\n",
    "decimal places."
   ]
  },
  {
   "cell_type": "code",
   "execution_count": 31,
   "id": "0447c2db",
   "metadata": {},
   "outputs": [
    {
     "name": "stdout",
     "output_type": "stream",
     "text": [
      "pi in 5 decimal places is:  3.14159\n"
     ]
    }
   ],
   "source": [
    "pi = math.pi\n",
    "pi5 = round(pi, 5)\n",
    "print(\"pi in 5 decimal places is: \", pi5)"
   ]
  },
  {
   "cell_type": "markdown",
   "id": "f2ef8c35",
   "metadata": {},
   "source": [
    "031\n",
    "Ask the user to enter the radius of a circle\n",
    "(measurement from the centre point to the edge). Work\n",
    "out the area of the circle (π*radius2)."
   ]
  },
  {
   "cell_type": "code",
   "execution_count": 33,
   "id": "2600d472",
   "metadata": {},
   "outputs": [
    {
     "name": "stdout",
     "output_type": "stream",
     "text": [
      "Enter the radius of a circle: 3.4\n",
      "area of the circle is:  36.32\n"
     ]
    }
   ],
   "source": [
    "radius = float(input(\"Enter the radius of a circle: \"))\n",
    "area = math.pi*radius*radius\n",
    "print(\"area of the circle is: \", round(area,2))"
   ]
  },
  {
   "cell_type": "markdown",
   "id": "f32051ea",
   "metadata": {},
   "source": [
    "032.\n",
    "Ask for the radius and the depth of a cylinder\n",
    "and work out the total volume (circle\n",
    "area*depth) rounded to three decimal\n",
    "places."
   ]
  },
  {
   "cell_type": "code",
   "execution_count": 34,
   "id": "64503015",
   "metadata": {},
   "outputs": [
    {
     "name": "stdout",
     "output_type": "stream",
     "text": [
      "Enter the radius of a cylinder: 3.5\n",
      "Enter the depth of a cylinder: 5\n",
      "total volume rounded to three decimal places is:  192.423\n"
     ]
    }
   ],
   "source": [
    "radius = float(input(\"Enter the radius of a cylinder: \"))\n",
    "depth = float(input(\"Enter the depth of a cylinder: \"))\n",
    "area = math.pi*radius*radius\n",
    "volume = area * depth\n",
    "print(\"total volume rounded to three decimal places is: \", round(volume, 3))"
   ]
  },
  {
   "cell_type": "markdown",
   "id": "4974ca8e",
   "metadata": {},
   "source": [
    "033.\n",
    "Ask the user to enter two numbers.\n",
    "Use whole number division to divide\n",
    "the first number by the second and\n",
    "also work out the remainder and\n",
    "display the answer in a user-friendly\n",
    "way (e.g. if they enter 7 and 2 display\n",
    "“7 divided by 2 is 3 with 1\n",
    "remaining”)."
   ]
  },
  {
   "cell_type": "code",
   "execution_count": 38,
   "id": "e78b43e1",
   "metadata": {},
   "outputs": [
    {
     "name": "stdout",
     "output_type": "stream",
     "text": [
      "Enter first number: 7\n",
      "Enter second number: 2\n",
      "7 divided by  2 is 3 with 1 remaining\n"
     ]
    }
   ],
   "source": [
    "number1 = int(input(\"Enter first number: \"))\n",
    "number2 = int(input(\"Enter second number: \"))\n",
    "whole_number = number1 // number2\n",
    "remainder = number1 % number2\n",
    "print(number1, \"divided by \", number2, \"is\", whole_number, \"with\", remainder, \"remaining\")"
   ]
  },
  {
   "cell_type": "markdown",
   "id": "35329303",
   "metadata": {},
   "source": [
    "34. Display the following message:\n",
    "If the user enters 1, then it should ask them for\n",
    "the length of one of its sides and display the\n",
    "area. If they select 2, it should ask for the base\n",
    "and height of the triangle and display the area. If\n",
    "they type in anything else, it should give them a\n",
    "suitable error message."
   ]
  },
  {
   "cell_type": "code",
   "execution_count": 45,
   "id": "b6ef98b3",
   "metadata": {},
   "outputs": [
    {
     "name": "stdout",
     "output_type": "stream",
     "text": [
      "Enter a number 1 or 2: 1\n",
      "Enter a side of square: 2.3\n",
      "Area of sqaure having side 2.3 is 5.29 square units\n"
     ]
    }
   ],
   "source": [
    "num = int(input(\"Enter a number 1 or 2: \"))\n",
    "if num == 1 :\n",
    "    side = float(input(\"Enter a side of square: \"))\n",
    "    area = side*side\n",
    "    area = round(area, 2)\n",
    "    print(f\"Area of sqaure having side {side} is {area} square units\")\n",
    "if num == 2 :\n",
    "    base = float(input(\"Enter a base of triangle: \"))\n",
    "    height = float(input(\"Enter a height of triangle: \"))\n",
    "    area = 1/2 * base * height\n",
    "    area = round(area, 2)\n",
    "    print(f\"area of triangle for base {base} and height {height} is: {area} square units\")"
   ]
  },
  {
   "cell_type": "code",
   "execution_count": null,
   "id": "285f0db7",
   "metadata": {},
   "outputs": [],
   "source": []
  }
 ],
 "metadata": {
  "kernelspec": {
   "display_name": "Python 3 (ipykernel)",
   "language": "python",
   "name": "python3"
  },
  "language_info": {
   "codemirror_mode": {
    "name": "ipython",
    "version": 3
   },
   "file_extension": ".py",
   "mimetype": "text/x-python",
   "name": "python",
   "nbconvert_exporter": "python",
   "pygments_lexer": "ipython3",
   "version": "3.9.7"
  }
 },
 "nbformat": 4,
 "nbformat_minor": 5
}
