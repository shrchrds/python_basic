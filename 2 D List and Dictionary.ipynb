{
 "cells": [
  {
   "cell_type": "markdown",
   "id": "0a80a4b6",
   "metadata": {},
   "source": [
    "**096. Create the following using a\n",
    "simple 2D list using the\n",
    "standard Python indexing:**"
   ]
  },
  {
   "cell_type": "code",
   "execution_count": 1,
   "id": "1661bea6",
   "metadata": {},
   "outputs": [
    {
     "name": "stdout",
     "output_type": "stream",
     "text": [
      "[[2, 5, 8], [3, 7, 4], [1, 6, 9], [4, 2, 0]]\n"
     ]
    }
   ],
   "source": [
    "lst = [[2,5,8],[3,7,4],[1,6,9],[4,2,0]]\n",
    "print(lst)"
   ]
  },
  {
   "cell_type": "markdown",
   "id": "a2b079b6",
   "metadata": {},
   "source": [
    "**097.\n",
    "Using the 2D list from program 096, ask the user to\n",
    "select a row and a column and display that value.**"
   ]
  },
  {
   "cell_type": "code",
   "execution_count": 2,
   "id": "09fc51b9",
   "metadata": {},
   "outputs": [
    {
     "name": "stdout",
     "output_type": "stream",
     "text": [
      "Enter row number to display: 1\n",
      "Enter column number to display: 1\n",
      "7\n"
     ]
    }
   ],
   "source": [
    "row = int(input(\"Enter row number to display: \"))\n",
    "column = int(input(\"Enter column number to display: \"))\n",
    "print(lst[row][column])"
   ]
  },
  {
   "cell_type": "markdown",
   "id": "dc2c77e7",
   "metadata": {},
   "source": [
    "**098.\n",
    "Using the 2D list from program 096, ask the user\n",
    "which row they would like displayed and display\n",
    "just that row. Ask them to enter a new value and\n",
    "add it to the end of the row and display the row again.**"
   ]
  },
  {
   "cell_type": "code",
   "execution_count": 3,
   "id": "623027e3",
   "metadata": {},
   "outputs": [
    {
     "name": "stdout",
     "output_type": "stream",
     "text": [
      "Enter row number to display: 2\n",
      "Only row:  [1, 6, 9]\n",
      "Enter new value to add in a row: 1\n",
      "[1, 6, 9, 1]\n"
     ]
    }
   ],
   "source": [
    "row = int(input(\"Enter row number to display: \"))\n",
    "row_slice = lst[row]\n",
    "print(\"Only row: \", row_slice)\n",
    "new_value = int(input(\"Enter new value to add in a row: \"))\n",
    "row_slice.append(new_value)\n",
    "print(row_slice)"
   ]
  },
  {
   "cell_type": "markdown",
   "id": "0f7854b4",
   "metadata": {},
   "source": [
    "**099.\n",
    "Change your previous program\n",
    "to ask the user which row they\n",
    "want displayed. Display that\n",
    "row. Ask which column in that\n",
    "row they want displayed and\n",
    "display the value that is held\n",
    "there. Ask the user if they want\n",
    "to change the value. If they do,\n",
    "ask for a new value and change\n",
    "the data. Finally, display the\n",
    "whole row again.**"
   ]
  },
  {
   "cell_type": "code",
   "execution_count": 4,
   "id": "3f899f93",
   "metadata": {},
   "outputs": [
    {
     "name": "stdout",
     "output_type": "stream",
     "text": [
      "Enter row number to display: 1\n",
      "Only row:  [3, 7, 4]\n",
      "Enter column number to display from above row slice: 1\n",
      "7\n",
      "Do you want to change value? y/n: y\n",
      "Enter new value to add in a row: 9\n",
      "Whole row:  [3, 7, 4, 9]\n"
     ]
    }
   ],
   "source": [
    "row = int(input(\"Enter row number to display: \"))\n",
    "row_slice = lst[row]\n",
    "print(\"Only row: \", row_slice)\n",
    "column = int(input(\"Enter column number to display from above row slice: \"))\n",
    "column_slice = row_slice[column]\n",
    "print(column_slice)\n",
    "change = input(\"Do you want to change value? y/n: \")\n",
    "new_value = int(input(\"Enter new value to add in a row: \"))\n",
    "row_slice.append(new_value)\n",
    "print(\"Whole row: \",row_slice)"
   ]
  },
  {
   "cell_type": "markdown",
   "id": "28e2f605",
   "metadata": {},
   "source": [
    "**100.\n",
    "Create the following using a 2D dictionary showing\n",
    "the sales each person has made in the different\n",
    "geographical regions:**"
   ]
  },
  {
   "cell_type": "code",
   "execution_count": 7,
   "id": "681b6cd1",
   "metadata": {},
   "outputs": [
    {
     "name": "stdout",
     "output_type": "stream",
     "text": [
      "Sales of Each person: \n",
      " {'John': {'N': 3056, 'S': 8463, 'E': 8441, 'W': 2694}, 'Tom': {'N': 4832, 'S': 6786, 'E': 4737, 'W': 3612}, 'Anne': {'N': 5239, 'S': 4802, 'E': 5820, 'W': 1859}, 'Fiona': {'N': 3904, 'S': 3645, 'E': 8821, 'W': 2451}}\n"
     ]
    }
   ],
   "source": [
    "sales_data = {\"John\":{\"N\":3056, \"S\":8463, \"E\":8441, \"W\":2694},\n",
    "               \"Tom\":{\"N\":4832, \"S\":6786, \"E\":4737, \"W\":3612},\n",
    "               \"Anne\":{\"N\":5239, \"S\":4802, \"E\":5820, \"W\":1859},\n",
    "            \"Fiona\":{\"N\":3904, \"S\":3645, \"E\":8821, \"W\":2451}\n",
    "             }\n",
    "print(\"Sales of Each person: \\n\", sales_data)"
   ]
  },
  {
   "cell_type": "markdown",
   "id": "99b18713",
   "metadata": {},
   "source": [
    "**101.\n",
    "Using program 100, ask the user for a name and a region. Display the relevant data. Ask\n",
    "the user for the name and region of data they want to change and allow them to make\n",
    "the alteration to the sales figure. Display the sales for all regions for the name they\n",
    "choose.**"
   ]
  },
  {
   "cell_type": "code",
   "execution_count": 9,
   "id": "c87bbc6e",
   "metadata": {},
   "outputs": [
    {
     "name": "stdout",
     "output_type": "stream",
     "text": [
      "Enter name: Tom\n",
      "Enter region: N\n",
      "Relevent Data:  4832\n",
      "Enter name to change data: John\n",
      "Enter region to change data: N\n",
      "Enter new data you want to update for John and N: 4200\n",
      "Sales for all regions for John: {'N': 4200, 'S': 8463, 'E': 8441, 'W': 2694}\n"
     ]
    }
   ],
   "source": [
    "name = input(\"Enter name: \")\n",
    "region = input(\"Enter region: \")\n",
    "data = sales_data[name][region]\n",
    "print(\"Relevent Data: \", data)\n",
    "name1 = input(\"Enter name to change data: \")\n",
    "region1 = input(\"Enter region to change data: \")\n",
    "update_data = int(input(f\"Enter new data you want to update for {name1} and {region1}: \"))\n",
    "sales_data[name1][region1] = update_data\n",
    "print(f\"Sales for all regions for {name1}: {sales_data[name1]}\")"
   ]
  },
  {
   "cell_type": "markdown",
   "id": "9695d373",
   "metadata": {},
   "source": [
    "**102.\n",
    "Ask the user to enter the name, age and shoe size for four\n",
    "people. Ask for the name of one of the people in the list and\n",
    "display their age and shoe size.**"
   ]
  },
  {
   "cell_type": "code",
   "execution_count": 17,
   "id": "7df56894",
   "metadata": {},
   "outputs": [
    {
     "name": "stdout",
     "output_type": "stream",
     "text": [
      "Enter name: Ashok\n",
      "Enter age: 30\n",
      "Enter shoe size: 7\n",
      "Enter name: Mak\n",
      "Enter age: 34\n",
      "Enter shoe size: 8\n",
      "Enter name: Harsh\n",
      "Enter age: 30\n",
      "Enter shoe size: 6\n",
      "Enter name: Sahil\n",
      "Enter age: 32\n",
      "Enter shoe size: 8\n",
      "Enter name of person to display his age and shoe sizeSahil\n",
      "{'Age': 32, 'Shoe Size': 8}\n"
     ]
    }
   ],
   "source": [
    "shoe_data = {}\n",
    "for i in range(4):\n",
    "    name = input(\"Enter name: \")\n",
    "    age = int(input(\"Enter age: \"))\n",
    "    shoe_size = int(input(\"Enter shoe size: \"))\n",
    "    shoe_data[name] = {\"Age\":age, \"Shoe Size\": shoe_size}\n",
    "name = input(\"Enter name of person to display his age and shoe size\")\n",
    "print(shoe_data[name])\n"
   ]
  },
  {
   "cell_type": "markdown",
   "id": "b7120c9b",
   "metadata": {},
   "source": [
    "**103.\n",
    "Adapt program 102\n",
    "to display the\n",
    "names and ages of\n",
    "all the people in\n",
    "the list but do not\n",
    "show their shoe\n",
    "size.**"
   ]
  },
  {
   "cell_type": "code",
   "execution_count": 21,
   "id": "e4ebf6f0",
   "metadata": {
    "scrolled": false
   },
   "outputs": [
    {
     "name": "stdout",
     "output_type": "stream",
     "text": [
      "Enter name: shiv\n",
      "Enter age: 33\n",
      "Enter shoe size: 9\n",
      "Enter name: Priya\n",
      "Enter age: 3\n",
      "Enter shoe size: 2\n",
      "Enter name: Babool\n",
      "Enter age: 17\n",
      "Enter shoe size: 6\n",
      "Enter name: Sidheshwar\n",
      "Enter age: 20\n",
      "Enter shoe size: 7\n",
      "Names and Ages of people in dictionarye are: \n",
      "\n",
      "shiv 33\n",
      "Priya 3\n",
      "Babool 17\n",
      "Sidheshwar 20\n"
     ]
    }
   ],
   "source": [
    "shoe_data = {}\n",
    "for i in range(4):\n",
    "    name = input(\"Enter name: \")\n",
    "    age = int(input(\"Enter age: \"))\n",
    "    shoe_size = int(input(\"Enter shoe size: \"))\n",
    "    shoe_data[name] = {\"Age\":age, \"Shoe Size\": shoe_size}\n",
    "print(\"Names and Ages of people in dictionarye are: \\n\")\n",
    "for person in shoe_data :\n",
    "    print(person, shoe_data[person][\"Age\"])"
   ]
  },
  {
   "cell_type": "markdown",
   "id": "58355edf",
   "metadata": {},
   "source": [
    "**104.\n",
    "After gathering the four names, ages and shoe sizes, ask the\n",
    "user to enter the name of the person they want to remove from\n",
    "the list. Delete this row from the data and display the other rows\n",
    "on separate lines.**"
   ]
  },
  {
   "cell_type": "code",
   "execution_count": 22,
   "id": "885c4db3",
   "metadata": {},
   "outputs": [
    {
     "name": "stdout",
     "output_type": "stream",
     "text": [
      "Enter name: Jay\n",
      "Enter age: 12\n",
      "Enter shoe size: 4\n",
      "Enter name: Vaibhavi\n",
      "Enter age: 22\n",
      "Enter shoe size: 6\n",
      "Enter name: Amruta\n",
      "Enter age: 26\n",
      "Enter shoe size: 7\n",
      "Enter name: Shiv\n",
      "Enter age: 33\n",
      "Enter shoe size: 9\n",
      "Enter name to remove: Shiv\n",
      "Remaining rows : \n",
      " {'Jay': {'Age': 12, 'Shoe Size': 4}, 'Vaibhavi': {'Age': 22, 'Shoe Size': 6}, 'Amruta': {'Age': 26, 'Shoe Size': 7}}\n"
     ]
    }
   ],
   "source": [
    "shoe_data = {}\n",
    "for i in range(4):\n",
    "    name = input(\"Enter name: \")\n",
    "    age = int(input(\"Enter age: \"))\n",
    "    shoe_size = int(input(\"Enter shoe size: \"))\n",
    "    shoe_data[name] = {\"Age\":age, \"Shoe Size\": shoe_size}\n",
    "else:\n",
    "    name_to_remove = input(\"Enter name to remove: \")\n",
    "    del shoe_data[name_to_remove]\n",
    "    print(\"Remaining rows : \\n\",shoe_data)"
   ]
  },
  {
   "cell_type": "code",
   "execution_count": null,
   "id": "b6e06e1f",
   "metadata": {},
   "outputs": [],
   "source": []
  }
 ],
 "metadata": {
  "kernelspec": {
   "display_name": "Python 3 (ipykernel)",
   "language": "python",
   "name": "python3"
  },
  "language_info": {
   "codemirror_mode": {
    "name": "ipython",
    "version": 3
   },
   "file_extension": ".py",
   "mimetype": "text/x-python",
   "name": "python",
   "nbconvert_exporter": "python",
   "pygments_lexer": "ipython3",
   "version": "3.9.7"
  }
 },
 "nbformat": 4,
 "nbformat_minor": 5
}
