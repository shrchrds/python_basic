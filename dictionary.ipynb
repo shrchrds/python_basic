{
 "cells": [
  {
   "cell_type": "code",
   "execution_count": 10,
   "id": "361d4c58",
   "metadata": {},
   "outputs": [],
   "source": [
    "text = \"\"\"On January 8, Prince Harry and Meghan Markle, the Duke and Duchess of Sussex, unveiled their  controversial plan to walk away from royal roles. We intend to step back as ‘senior’ members of the royal  family and work to become financially independent while continuing to fully support her majesty the queen,  they said in a joint statement. We now plan to balance our time between the United Kingdom and North  America, continuing to honor our duty to the Queen, the commonwealth and our patronages. This  geographic balance will enable us to raise our son with an appreciation for the royal tradition into which he  was born, while also providing our family with the space to focus on the next chapter, including the launch  of our new charitable entity, the statement added. Apparently, the announcement on the Sussex Royal  Instagram page blindsided the Queen and other family members who had no idea it was coming, it sent  tabloids into overdrive. Meanwhile, the Queen summoned Senior Royals to an emergency summit to  discuss the future of the Duke and Duchess of Sussex. Billed as the Sandringham summit, the meeting took  place at the Queen's estate in Norfolk and involved Queen Elizabeth II, Harry his father, Prince Charles  and his brother Prince William, with Meghan Markle reportedly joining the discussions by phone from  Canada. Soon after, the queen released a statement, that said, My family and I are entirely supportive of  Harry and Meghan Markle desire to create a new life as a young family. Although we would have preferred  them to remain full-time working members of the Royal family, we respect and understand their wish to  live a more independent life as a family while remaining a valued part of my family.\"\"\"\n",
    "list_of_keyphrases = ['Prince Charles', 'Prince William', 'Meghan Markle', 'United Kingdom', 'North  America', 'Duke and Duchess of Sussex', 'Queen Elizabeth II'] "
   ]
  },
  {
   "cell_type": "code",
   "execution_count": 26,
   "id": "45f2c2a1",
   "metadata": {},
   "outputs": [],
   "source": [
    "import re"
   ]
  },
  {
   "cell_type": "code",
   "execution_count": null,
   "id": "fc9befbf",
   "metadata": {},
   "outputs": [],
   "source": [
    "re.sub"
   ]
  },
  {
   "cell_type": "code",
   "execution_count": 30,
   "id": "b1c49495",
   "metadata": {},
   "outputs": [
    {
     "name": "stdout",
     "output_type": "stream",
     "text": [
      "On January 8, Prince Harry and Meghan Markle, the Duke and Duchess of Sussex, unveiled their  controversial plan to walk away from royal roles. We intend to step back as ‘senior’ members of the royal  family and work to become financially independent while continuing to fully support her majesty the queen,  they said in a joint statement. We now plan to balance our time between the United Kingdom and North  America, continuing to honor our duty to the Queen, the commonwealth and our patronages. This  geographic balance will enable us to raise our son with an appreciation for the royal tradition into which he  was born, while also providing our family with the space to focus on the next chapter, including the launch  of our new charitable entity, the statement added. Apparently, the announcement on the Sussex Royal  Instagram page blindsided the Queen and other family members who had no idea it was coming, it sent  tabloids into overdrive. Meanwhile, the Queen summoned Senior Royals to an emergency summit to  discuss the future of the Duke and Duchess of Sussex. Billed as the Sandringham summit, the meeting took  place at the Queen's estate in Norfolk and involved Queen Elizabeth II, Harry his father, Prince_Charles  and his brother Prince William, with Meghan Markle reportedly joining the discussions by phone from  Canada. Soon after, the queen released a statement, that said, My family and I are entirely supportive of  Harry and Meghan Markle desire to create a new life as a young family. Although we would have preferred  them to remain full-time working members of the Royal family, we respect and understand their wish to  live a more independent life as a family while remaining a valued part of my family.\n"
     ]
    }
   ],
   "source": [
    "for i in list_of_keyphrases :\n",
    "    new = re.sub(i, '_'.join(i.split()), text)\n",
    "    matches = re.findall(i, text)\n",
    "    print(new)\n",
    "    break"
   ]
  },
  {
   "cell_type": "code",
   "execution_count": null,
   "id": "8f46ab52",
   "metadata": {},
   "outputs": [],
   "source": []
  },
  {
   "cell_type": "code",
   "execution_count": 25,
   "id": "e92dd983",
   "metadata": {},
   "outputs": [
    {
     "name": "stdout",
     "output_type": "stream",
     "text": [
      "On January 8, Prince Harry and Meghan Markle, the Duke and Duchess of Sussex, unveiled their  controversial plan to walk away from royal roles. We intend to step back as ‘senior’ members of the royal  family and work to become financially independent while continuing to fully support her majesty the queen,  they said in a joint statement. We now plan to balance our time between the United Kingdom and North  America, continuing to honor our duty to the Queen, the commonwealth and our patronages. This  geographic balance will enable us to raise our son with an appreciation for the royal tradition into which he  was born, while also providing our family with the space to focus on the next chapter, including the launch  of our new charitable entity, the statement added. Apparently, the announcement on the Sussex Royal  Instagram page blindsided the Queen and other family members who had no idea it was coming, it sent  tabloids into overdrive. Meanwhile, the Queen summoned Senior Royals to an emergency summit to  discuss the future of the Duke and Duchess of Sussex. Billed as the Sandringham summit, the meeting took  place at the Queen's estate in Norfolk and involved Queen Elizabeth II, Harry his father, Prince_Charles  and his brother Prince William, with Meghan Markle reportedly joining the discussions by phone from  Canada. Soon after, the queen released a statement, that said, My family and I are entirely supportive of  Harry and Meghan Markle desire to create a new life as a young family. Although we would have preferred  them to remain full-time working members of the Royal family, we respect and understand their wish to  live a more independent life as a family while remaining a valued part of my family.On January 8, Prince Harry and Meghan Markle, the Duke and Duchess of Sussex, unveiled their  controversial plan to walk away from royal roles. We intend to step back as ‘senior’ members of the royal  family and work to become financially independent while continuing to fully support her majesty the queen,  they said in a joint statement. We now plan to balance our time between the United Kingdom and North  America, continuing to honor our duty to the Queen, the commonwealth and our patronages. This  geographic balance will enable us to raise our son with an appreciation for the royal tradition into which he  was born, while also providing our family with the space to focus on the next chapter, including the launch  of our new charitable entity, the statement added. Apparently, the announcement on the Sussex Royal  Instagram page blindsided the Queen and other family members who had no idea it was coming, it sent  tabloids into overdrive. Meanwhile, the Queen summoned Senior Royals to an emergency summit to  discuss the future of the Duke and Duchess of Sussex. Billed as the Sandringham summit, the meeting took  place at the Queen's estate in Norfolk and involved Queen Elizabeth II, Harry his father, Prince Charles  and his brother Prince_William, with Meghan Markle reportedly joining the discussions by phone from  Canada. Soon after, the queen released a statement, that said, My family and I are entirely supportive of  Harry and Meghan Markle desire to create a new life as a young family. Although we would have preferred  them to remain full-time working members of the Royal family, we respect and understand their wish to  live a more independent life as a family while remaining a valued part of my family.On January 8, Prince Harry and Meghan_Markle, the Duke and Duchess of Sussex, unveiled their  controversial plan to walk away from royal roles. We intend to step back as ‘senior’ members of the royal  family and work to become financially independent while continuing to fully support her majesty the queen,  they said in a joint statement. We now plan to balance our time between the United Kingdom and North  America, continuing to honor our duty to the Queen, the commonwealth and our patronages. This  geographic balance will enable us to raise our son with an appreciation for the royal tradition into which he  was born, while also providing our family with the space to focus on the next chapter, including the launch  of our new charitable entity, the statement added. Apparently, the announcement on the Sussex Royal  Instagram page blindsided the Queen and other family members who had no idea it was coming, it sent  tabloids into overdrive. Meanwhile, the Queen summoned Senior Royals to an emergency summit to  discuss the future of the Duke and Duchess of Sussex. Billed as the Sandringham summit, the meeting took  place at the Queen's estate in Norfolk and involved Queen Elizabeth II, Harry his father, Prince Charles  and his brother Prince William, with Meghan_Markle reportedly joining the discussions by phone from  Canada. Soon after, the queen released a statement, that said, My family and I are entirely supportive of  Harry and Meghan_Markle desire to create a new life as a young family. Although we would have preferred  them to remain full-time working members of the Royal family, we respect and understand their wish to  live a more independent life as a family while remaining a valued part of my family.On January 8, Prince Harry and Meghan Markle, the Duke and Duchess of Sussex, unveiled their  controversial plan to walk away from royal roles. We intend to step back as ‘senior’ members of the royal  family and work to become financially independent while continuing to fully support her majesty the queen,  they said in a joint statement. We now plan to balance our time between the United_Kingdom and North  America, continuing to honor our duty to the Queen, the commonwealth and our patronages. This  geographic balance will enable us to raise our son with an appreciation for the royal tradition into which he  was born, while also providing our family with the space to focus on the next chapter, including the launch  of our new charitable entity, the statement added. Apparently, the announcement on the Sussex Royal  Instagram page blindsided the Queen and other family members who had no idea it was coming, it sent  tabloids into overdrive. Meanwhile, the Queen summoned Senior Royals to an emergency summit to  discuss the future of the Duke and Duchess of Sussex. Billed as the Sandringham summit, the meeting took  place at the Queen's estate in Norfolk and involved Queen Elizabeth II, Harry his father, Prince Charles  and his brother Prince William, with Meghan Markle reportedly joining the discussions by phone from  Canada. Soon after, the queen released a statement, that said, My family and I are entirely supportive of  Harry and Meghan Markle desire to create a new life as a young family. Although we would have preferred  them to remain full-time working members of the Royal family, we respect and understand their wish to  live a more independent life as a family while remaining a valued part of my family.On January 8, Prince Harry and Meghan Markle, the Duke and Duchess of Sussex, unveiled their  controversial plan to walk away from royal roles. We intend to step back as ‘senior’ members of the royal  family and work to become financially independent while continuing to fully support her majesty the queen,  they said in a joint statement. We now plan to balance our time between the United Kingdom and North__America, continuing to honor our duty to the Queen, the commonwealth and our patronages. This  geographic balance will enable us to raise our son with an appreciation for the royal tradition into which he  was born, while also providing our family with the space to focus on the next chapter, including the launch  of our new charitable entity, the statement added. Apparently, the announcement on the Sussex Royal  Instagram page blindsided the Queen and other family members who had no idea it was coming, it sent  tabloids into overdrive. Meanwhile, the Queen summoned Senior Royals to an emergency summit to  discuss the future of the Duke and Duchess of Sussex. Billed as the Sandringham summit, the meeting took  place at the Queen's estate in Norfolk and involved Queen Elizabeth II, Harry his father, Prince Charles  and his brother Prince William, with Meghan Markle reportedly joining the discussions by phone from  Canada. Soon after, the queen released a statement, that said, My family and I are entirely supportive of  Harry and Meghan Markle desire to create a new life as a young family. Although we would have preferred  them to remain full-time working members of the Royal family, we respect and understand their wish to  live a more independent life as a family while remaining a valued part of my family.On January 8, Prince Harry and Meghan Markle, the Duke_and_Duchess_of_Sussex, unveiled their  controversial plan to walk away from royal roles. We intend to step back as ‘senior’ members of the royal  family and work to become financially independent while continuing to fully support her majesty the queen,  they said in a joint statement. We now plan to balance our time between the United Kingdom and North  America, continuing to honor our duty to the Queen, the commonwealth and our patronages. This  geographic balance will enable us to raise our son with an appreciation for the royal tradition into which he  was born, while also providing our family with the space to focus on the next chapter, including the launch  of our new charitable entity, the statement added. Apparently, the announcement on the Sussex Royal  Instagram page blindsided the Queen and other family members who had no idea it was coming, it sent  tabloids into overdrive. Meanwhile, the Queen summoned Senior Royals to an emergency summit to  discuss the future of the Duke_and_Duchess_of_Sussex. Billed as the Sandringham summit, the meeting took  place at the Queen's estate in Norfolk and involved Queen Elizabeth II, Harry his father, Prince Charles  and his brother Prince William, with Meghan Markle reportedly joining the discussions by phone from  Canada. Soon after, the queen released a statement, that said, My family and I are entirely supportive of  Harry and Meghan Markle desire to create a new life as a young family. Although we would have preferred  them to remain full-time working members of the Royal family, we respect and understand their wish to  live a more independent life as a family while remaining a valued part of my family.On January 8, Prince Harry and Meghan Markle, the Duke and Duchess of Sussex, unveiled their  controversial plan to walk away from royal roles. We intend to step back as ‘senior’ members of the royal  family and work to become financially independent while continuing to fully support her majesty the queen,  they said in a joint statement. We now plan to balance our time between the United Kingdom and North  America, continuing to honor our duty to the Queen, the commonwealth and our patronages. This  geographic balance will enable us to raise our son with an appreciation for the royal tradition into which he  was born, while also providing our family with the space to focus on the next chapter, including the launch  of our new charitable entity, the statement added. Apparently, the announcement on the Sussex Royal  Instagram page blindsided the Queen and other family members who had no idea it was coming, it sent  tabloids into overdrive. Meanwhile, the Queen summoned Senior Royals to an emergency summit to  discuss the future of the Duke and Duchess of Sussex. Billed as the Sandringham summit, the meeting took  place at the Queen's estate in Norfolk and involved Queen_Elizabeth_II, Harry his father, Prince Charles  and his brother Prince William, with Meghan Markle reportedly joining the discussions by phone from  Canada. Soon after, the queen released a statement, that said, My family and I are entirely supportive of  Harry and Meghan Markle desire to create a new life as a young family. Although we would have preferred  them to remain full-time working members of the Royal family, we respect and understand their wish to  live a more independent life as a family while remaining a valued part of my family.\n"
     ]
    }
   ],
   "source": [
    "modified_text = \"\"\"\"\"\"\n",
    "for i in list_of_keyphrases :\n",
    "    if i in text :\n",
    "        new_join = text.replace(i, '_'.join(i.split(' ')))\n",
    "    modified_text += new_join\n",
    "print(modified_text)"
   ]
  },
  {
   "cell_type": "code",
   "execution_count": 23,
   "id": "543eae52",
   "metadata": {},
   "outputs": [
    {
     "data": {
      "text/plain": [
       "['Prince Charles',\n",
       " 'Prince William',\n",
       " 'Meghan Markle',\n",
       " 'United Kingdom',\n",
       " 'North  America',\n",
       " 'Duke and Duchess of Sussex',\n",
       " 'Queen Elizabeth II']"
      ]
     },
     "execution_count": 23,
     "metadata": {},
     "output_type": "execute_result"
    }
   ],
   "source": [
    "list_of_keyphrases"
   ]
  },
  {
   "cell_type": "code",
   "execution_count": null,
   "id": "414df0cf",
   "metadata": {},
   "outputs": [],
   "source": []
  }
 ],
 "metadata": {
  "kernelspec": {
   "display_name": "Python 3 (ipykernel)",
   "language": "python",
   "name": "python3"
  },
  "language_info": {
   "codemirror_mode": {
    "name": "ipython",
    "version": 3
   },
   "file_extension": ".py",
   "mimetype": "text/x-python",
   "name": "python",
   "nbconvert_exporter": "python",
   "pygments_lexer": "ipython3",
   "version": "3.9.7"
  }
 },
 "nbformat": 4,
 "nbformat_minor": 5
}
