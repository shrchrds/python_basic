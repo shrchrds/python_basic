{
 "cells": [
  {
   "cell_type": "markdown",
   "id": "d73814be",
   "metadata": {},
   "source": [
    "### 5. For Loop"
   ]
  },
  {
   "cell_type": "markdown",
   "id": "8c72aa8b",
   "metadata": {},
   "source": [
    "035.\n",
    "Ask the user to enter\n",
    "their name and then\n",
    "display their name\n",
    "three times."
   ]
  },
  {
   "cell_type": "code",
   "execution_count": 3,
   "id": "bdae93b7",
   "metadata": {},
   "outputs": [
    {
     "name": "stdout",
     "output_type": "stream",
     "text": [
      "Enter your name: Shiv\n",
      "Shiv\n",
      "Shiv\n",
      "Shiv\n"
     ]
    }
   ],
   "source": [
    "name = input(\"Enter your name: \")\n",
    "for i in range(3):\n",
    "    print(name)"
   ]
  },
  {
   "cell_type": "markdown",
   "id": "cc33ea2b",
   "metadata": {},
   "source": [
    "036.\n",
    "Alter program 035 so that it will ask the user to enter their\n",
    "name and a number and then display their name that\n",
    "number of times."
   ]
  },
  {
   "cell_type": "code",
   "execution_count": 2,
   "id": "73452a29",
   "metadata": {},
   "outputs": [
    {
     "name": "stdout",
     "output_type": "stream",
     "text": [
      "Enter your name: Shivanand\n",
      "Enter number of time you want to repeat name: 3\n",
      "Shivanand\n",
      "Shivanand\n",
      "Shivanand\n"
     ]
    }
   ],
   "source": [
    "name = input(\"Enter your name: \")\n",
    "number = int(input(\"Enter number of time you want to repeat name: \"))\n",
    "for i in range(number):\n",
    "    print(name)"
   ]
  },
  {
   "cell_type": "markdown",
   "id": "c77a3f36",
   "metadata": {},
   "source": [
    "037.\n",
    "Ask the user to enter their name and display each letter in\n",
    "their name on a separate line."
   ]
  },
  {
   "cell_type": "code",
   "execution_count": 4,
   "id": "4b45e139",
   "metadata": {},
   "outputs": [
    {
     "name": "stdout",
     "output_type": "stream",
     "text": [
      "Enter your name: shiv\n",
      "s\n",
      "h\n",
      "i\n",
      "v\n"
     ]
    }
   ],
   "source": [
    "name = input(\"Enter your name: \")\n",
    "for i in name :\n",
    "    print(i)"
   ]
  },
  {
   "cell_type": "markdown",
   "id": "17de0b00",
   "metadata": {},
   "source": [
    "038.\n",
    "Change program\n",
    "037 to also ask for a\n",
    "number. Display\n",
    "their name (one\n",
    "letter at a time on\n",
    "each line) and\n",
    "repeat this for the\n",
    "number of times\n",
    "they entered."
   ]
  },
  {
   "cell_type": "code",
   "execution_count": 8,
   "id": "8db8a8e0",
   "metadata": {},
   "outputs": [
    {
     "name": "stdout",
     "output_type": "stream",
     "text": [
      "Enter your name: Shiv\n",
      "Enter number of times you want to repeat name: 5\n",
      "S\n",
      "h\n",
      "i\n",
      "v\n",
      "\n",
      "S\n",
      "h\n",
      "i\n",
      "v\n",
      "\n",
      "S\n",
      "h\n",
      "i\n",
      "v\n",
      "\n",
      "S\n",
      "h\n",
      "i\n",
      "v\n",
      "\n",
      "S\n",
      "h\n",
      "i\n",
      "v\n",
      "\n"
     ]
    }
   ],
   "source": [
    "name = input(\"Enter your name: \")\n",
    "number = int(input(\"Enter number of times you want to repeat name: \"))\n",
    "for j in range(number):\n",
    "    for i in name :\n",
    "        print(i)\n",
    "    print()"
   ]
  },
  {
   "cell_type": "markdown",
   "id": "f6d77738",
   "metadata": {},
   "source": [
    "039.\n",
    "Ask the user to enter a number between 1\n",
    "and 12 and then display the times table for\n",
    "that number."
   ]
  },
  {
   "cell_type": "code",
   "execution_count": 11,
   "id": "b4eeee4f",
   "metadata": {},
   "outputs": [
    {
     "name": "stdout",
     "output_type": "stream",
     "text": [
      "Enter number between 1 & 12: 9\n",
      "table for 9\n",
      "9 * 1 = 9\n",
      "9 * 2 = 18\n",
      "9 * 3 = 27\n",
      "9 * 4 = 36\n",
      "9 * 5 = 45\n",
      "9 * 6 = 54\n",
      "9 * 7 = 63\n",
      "9 * 8 = 72\n",
      "9 * 9 = 81\n",
      "9 * 10 = 90\n"
     ]
    }
   ],
   "source": [
    "number = int(input(\"Enter number between 1 & 12: \"))\n",
    "print(\"table for\", number)\n",
    "for i in range(1,11) :\n",
    "    print(f\"{number} * {i} = {number*i}\")"
   ]
  },
  {
   "cell_type": "markdown",
   "id": "f62c7a3e",
   "metadata": {},
   "source": [
    "040.\n",
    "Ask for a number below 50 and then count down from\n",
    "50 to that number, making sure you show the number\n",
    "they entered in the output."
   ]
  },
  {
   "cell_type": "code",
   "execution_count": 14,
   "id": "30c63f9b",
   "metadata": {},
   "outputs": [
    {
     "name": "stdout",
     "output_type": "stream",
     "text": [
      "Enter number below 50: 40\n",
      "50\n",
      "49\n",
      "48\n",
      "47\n",
      "46\n",
      "45\n",
      "44\n",
      "43\n",
      "42\n",
      "41\n",
      "40\n"
     ]
    }
   ],
   "source": [
    "number = int(input(\"Enter number below 50: \"))\n",
    "for i in range(50, number-1, -1):\n",
    "    print(i)"
   ]
  },
  {
   "cell_type": "markdown",
   "id": "5e8e4fa3",
   "metadata": {},
   "source": [
    "041.\n",
    "Ask the user to enter their\n",
    "name and a number. If the\n",
    "number is less than 10, then\n",
    "display their name that\n",
    "number of times; otherwise\n",
    "display the message “Too\n",
    "high” three times."
   ]
  },
  {
   "cell_type": "code",
   "execution_count": 19,
   "id": "b47c74e6",
   "metadata": {},
   "outputs": [
    {
     "name": "stdout",
     "output_type": "stream",
     "text": [
      "Enter your name: SHIV\n",
      "Enter a number : 9\n",
      "SHIV\n",
      "SHIV\n",
      "SHIV\n",
      "SHIV\n",
      "SHIV\n",
      "SHIV\n",
      "SHIV\n",
      "SHIV\n",
      "SHIV\n"
     ]
    }
   ],
   "source": [
    "name = input(\"Enter your name: \")\n",
    "number = int(input(\"Enter a number : \"))\n",
    "if number < 10 :\n",
    "    for i in range(number):\n",
    "        print(name)\n",
    "else:\n",
    "    print(\"Too high\\n\"*3)"
   ]
  },
  {
   "cell_type": "markdown",
   "id": "1d69f531",
   "metadata": {},
   "source": [
    "042.\n",
    "Set a variable called total to 0. Ask the user to enter\n",
    "five numbers and after each input ask them if they\n",
    "want that number included. If they do, then add the\n",
    "number to the total. If they do not want it included,\n",
    "don’t add it to the total. After they have entered all five\n",
    "numbers, display the total."
   ]
  },
  {
   "cell_type": "code",
   "execution_count": 30,
   "id": "f591f7a0",
   "metadata": {},
   "outputs": [
    {
     "name": "stdout",
     "output_type": "stream",
     "text": [
      "Enter number: 9\n",
      "Do you want to include this number? Yes or No:  no\n",
      "Enter number: 12\n",
      "Do you want to include this number? Yes or No:  yes\n",
      "Enter number: 8\n",
      "Do you want to include this number? Yes or No:  yes\n",
      "Enter number: 5\n",
      "Do you want to include this number? Yes or No:  yes\n",
      "Enter number: 3\n",
      "Do you want to include this number? Yes or No:  no\n",
      "Total of all included Numbers:  25\n"
     ]
    }
   ],
   "source": [
    "total = 0\n",
    "for i in range(5):\n",
    "    num = int(input(\"Enter number: \"))\n",
    "    include = input(\"Do you want to include this number? Yes or No:  \")\n",
    "    if include.lower() == 'yes':\n",
    "        total +=num \n",
    "print(\"Total of all included Numbers: \", total)"
   ]
  },
  {
   "cell_type": "markdown",
   "id": "a9ab14ea",
   "metadata": {},
   "source": [
    "043.\n",
    "Ask which direction the user wants to count (up or down). If they select up, then ask\n",
    "them for the top number and then count from 1 to that number. If they select down, ask\n",
    "them to enter a number below 20 and then count down from 20 to that number. If they\n",
    "entered something other than up or down, display the message “I don’t understand”."
   ]
  },
  {
   "cell_type": "code",
   "execution_count": 24,
   "id": "715bc64b",
   "metadata": {},
   "outputs": [
    {
     "name": "stdout",
     "output_type": "stream",
     "text": [
      "Which direction you wants to count up or down? : up\n",
      "Enter top number: 12\n",
      "1\n",
      "2\n",
      "3\n",
      "4\n",
      "5\n",
      "6\n",
      "7\n",
      "8\n",
      "9\n",
      "10\n",
      "11\n",
      "12\n"
     ]
    }
   ],
   "source": [
    "direction = input(\"Which direction you wants to count up or down? : \")\n",
    "if direction.lower() == 'up':\n",
    "    top_number = int(input(\"Enter top number: \"))\n",
    "    for i in range(1,top_number + 1):\n",
    "        print(i)\n",
    "elif direction.lower() == 'down':\n",
    "    number = int(input(\"Enter number below 20: \"))\n",
    "    for i in range(20, number-1, -1) :\n",
    "        print(i)\n",
    "else:\n",
    "    print(\"I don’t understand\")"
   ]
  },
  {
   "cell_type": "markdown",
   "id": "25c90c5e",
   "metadata": {},
   "source": [
    "044.\n",
    "Ask how many people the user wants to invite to a party. If they enter a number below\n",
    "10, ask for the names and after each name display “[name] has been invited”. If they\n",
    "enter a number which is 10 or higher, display the message “Too many people”."
   ]
  },
  {
   "cell_type": "code",
   "execution_count": 29,
   "id": "f925b58f",
   "metadata": {},
   "outputs": [
    {
     "name": "stdout",
     "output_type": "stream",
     "text": [
      "Enter how many people you wants to invite to a party?: 3\n",
      "Enter the name: Shiv\n",
      "Shiv has been invited\n",
      "Enter the name: Amruta\n",
      "Amruta has been invited\n",
      "Enter the name: Pranit\n",
      "Pranit has been invited\n"
     ]
    }
   ],
   "source": [
    "number_of_people = int(input(\"Enter how many people you wants to invite to a party?: \"))\n",
    "if number_of_people < 10 :\n",
    "    for i in range(0,number_of_people):\n",
    "        name = input(\"Enter the name: \")\n",
    "        print(name, \"has been invited\")\n",
    "else:\n",
    "    print(\"Too many people\")"
   ]
  },
  {
   "cell_type": "code",
   "execution_count": null,
   "id": "86a5f1bf",
   "metadata": {},
   "outputs": [],
   "source": []
  }
 ],
 "metadata": {
  "kernelspec": {
   "display_name": "Python 3 (ipykernel)",
   "language": "python",
   "name": "python3"
  },
  "language_info": {
   "codemirror_mode": {
    "name": "ipython",
    "version": 3
   },
   "file_extension": ".py",
   "mimetype": "text/x-python",
   "name": "python",
   "nbconvert_exporter": "python",
   "pygments_lexer": "ipython3",
   "version": "3.9.7"
  }
 },
 "nbformat": 4,
 "nbformat_minor": 5
}
