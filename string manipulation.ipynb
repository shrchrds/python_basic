{
 "cells": [
  {
   "cell_type": "markdown",
   "id": "5846503d",
   "metadata": {},
   "source": [
    "**080.\n",
    "Ask the user to enter their\n",
    "first name and then display\n",
    "the length of their first name.\n",
    "Then ask for their surname\n",
    "and display the length of\n",
    "their surname. Join their first\n",
    "name and surname together\n",
    "with a space between and\n",
    "display the result. Finally,\n",
    "display the length of their full\n",
    "name (including the space).**"
   ]
  },
  {
   "cell_type": "code",
   "execution_count": 1,
   "id": "74005700",
   "metadata": {},
   "outputs": [
    {
     "name": "stdout",
     "output_type": "stream",
     "text": [
      "Enter your first name: Shivanand\n",
      "Length of your name is:  9\n",
      "Enter your surname: Ekatpure\n",
      "Length of your surname is:  8\n",
      "Full name : Shivanand Ekatpure\n",
      "Length of your full name is:  18\n"
     ]
    }
   ],
   "source": [
    "name = input(\"Enter your first name: \")\n",
    "print(\"Length of your name is: \", len(name))\n",
    "surname = input(\"Enter your surname: \")\n",
    "print(\"Length of your surname is: \", len(surname))\n",
    "fullname = name + \" \" + surname\n",
    "print(\"Full name :\", fullname)\n",
    "print(\"Length of your full name is: \", len(fullname))"
   ]
  },
  {
   "cell_type": "markdown",
   "id": "f774fcd3",
   "metadata": {},
   "source": [
    "**081.\n",
    "Ask the user to type in their favourite school subject.\n",
    "Display it with “-” after each letter, e.g. S-p-a-n-i-s-h-.**"
   ]
  },
  {
   "cell_type": "code",
   "execution_count": 3,
   "id": "f8fba7dc",
   "metadata": {},
   "outputs": [
    {
     "name": "stdout",
     "output_type": "stream",
     "text": [
      "Enter your favourite subject in school: Science\n",
      "S-c-i-e-n-c-e-"
     ]
    }
   ],
   "source": [
    "favourite_subject = input(\"Enter your favourite subject in school: \")\n",
    "for i in favourite_subject :\n",
    "    print(i, end = '-')"
   ]
  },
  {
   "cell_type": "markdown",
   "id": "6348c6b3",
   "metadata": {},
   "source": [
    "**082.\n",
    "Show the user a line of text from your favourite poem\n",
    "and ask for a starting and ending point. Display the\n",
    "characters between those two points.**"
   ]
  },
  {
   "cell_type": "code",
   "execution_count": 4,
   "id": "0c17fe07",
   "metadata": {},
   "outputs": [
    {
     "name": "stdout",
     "output_type": "stream",
     "text": [
      "Enter your favourite poemMaple leaves turn black in the courtyard. Light drives lower and one bluejay crams our cold memories out past the sun\n",
      "Enter from where you want to start: 5\n",
      "Enter from where you want to end: 20\n",
      " leaves turn bla\n"
     ]
    }
   ],
   "source": [
    "poem_text = input(\"Enter your favourite poem\")\n",
    "start = int(input(\"Enter from where you want to start: \"))\n",
    "end = int(input(\"Enter from where you want to end: \"))\n",
    "print(poem_text[start:end+1])"
   ]
  },
  {
   "cell_type": "markdown",
   "id": "02b4f5cb",
   "metadata": {},
   "source": [
    "**083.\n",
    "Ask the user to type in a word in upper case. If they\n",
    "type it in lower case, ask them to try again. Keep\n",
    "repeating this until they type in a message all in\n",
    "uppercase.**"
   ]
  },
  {
   "cell_type": "code",
   "execution_count": 15,
   "id": "2e7ae3a0",
   "metadata": {},
   "outputs": [
    {
     "name": "stdout",
     "output_type": "stream",
     "text": [
      "Enter a word in upper case: hari\n",
      "Try again \n",
      "Enter a word in upper case: HAri\n",
      "Try again \n",
      "Enter a word in upper case: HARI\n",
      "Good!\n"
     ]
    }
   ],
   "source": [
    "word = input(\"Enter a word in upper case: \")\n",
    "upper = False\n",
    "while upper == False :\n",
    "    if word.isupper():\n",
    "        print(\"Good!\")\n",
    "        upper = True\n",
    "    else:\n",
    "        print(\"Try again \")\n",
    "        word = input(\"Enter a word in upper case: \")"
   ]
  },
  {
   "cell_type": "markdown",
   "id": "92e147b3",
   "metadata": {},
   "source": [
    "**084.\n",
    "Ask the user to type in their\n",
    "name. Display the first\n",
    "two letters in uppercase.**"
   ]
  },
  {
   "cell_type": "code",
   "execution_count": 16,
   "id": "cdc206ce",
   "metadata": {},
   "outputs": [
    {
     "name": "stdout",
     "output_type": "stream",
     "text": [
      "Enter your name: shivanand\n",
      "SH\n"
     ]
    }
   ],
   "source": [
    "name = input(\"Enter your name: \")\n",
    "print(name[:2].upper())"
   ]
  },
  {
   "cell_type": "markdown",
   "id": "d5ac1bc9",
   "metadata": {},
   "source": [
    "**085.\n",
    "Ask the user to type in their name\n",
    "and then tell them how many vowels\n",
    "are in their name.**"
   ]
  },
  {
   "cell_type": "code",
   "execution_count": 19,
   "id": "3187770f",
   "metadata": {},
   "outputs": [
    {
     "name": "stdout",
     "output_type": "stream",
     "text": [
      "Enter your name: Shivanand\n",
      "There are 3 vowels in your name.\n"
     ]
    }
   ],
   "source": [
    "name = input(\"Enter your name: \")\n",
    "vow = 0\n",
    "for i in name.lower() :\n",
    "    if i in \"aeiou\" :\n",
    "        vow +=1\n",
    "print(f\"There are {vow} vowels in your name.\")"
   ]
  },
  {
   "cell_type": "markdown",
   "id": "36262202",
   "metadata": {},
   "source": [
    "**086 Ask the user to enter a new password. Ask\n",
    "them to enter it again. If the two passwords\n",
    "match, display “Thank you”. If the letters are\n",
    "correct but in the wrong case, display the\n",
    "message “They must be in the same case”,\n",
    "otherwise display the message “Incorrect”.**"
   ]
  },
  {
   "cell_type": "code",
   "execution_count": 21,
   "id": "f0169039",
   "metadata": {},
   "outputs": [
    {
     "name": "stdout",
     "output_type": "stream",
     "text": [
      "Enter new password: Jay Shriram\n",
      "Enter password again: jay shriram\n",
      "They must be in the same case\n"
     ]
    }
   ],
   "source": [
    "password = input(\"Enter new password: \")\n",
    "again = input(\"Enter password again: \")\n",
    "if password == again :\n",
    "    print(\"Thank you\")\n",
    "elif password.lower() == again.lower() :\n",
    "    print(\"They must be in the same case\")\n",
    "else:\n",
    "    print(\"Incorrect\")"
   ]
  },
  {
   "cell_type": "markdown",
   "id": "e49cba40",
   "metadata": {},
   "source": [
    "**087. Ask the user to type in a word and then\n",
    "display it backwards on separate lines.**"
   ]
  },
  {
   "cell_type": "code",
   "execution_count": 22,
   "id": "d16c200b",
   "metadata": {},
   "outputs": [
    {
     "name": "stdout",
     "output_type": "stream",
     "text": [
      "Enter a word: Hello\n",
      "o\n",
      "l\n",
      "l\n",
      "e\n",
      "H\n"
     ]
    }
   ],
   "source": [
    "word = input(\"Enter a word: \")\n",
    "for i in word[::-1]:\n",
    "    print(i)"
   ]
  },
  {
   "cell_type": "code",
   "execution_count": null,
   "id": "e1f9fe2a",
   "metadata": {},
   "outputs": [],
   "source": []
  }
 ],
 "metadata": {
  "kernelspec": {
   "display_name": "Python 3 (ipykernel)",
   "language": "python",
   "name": "python3"
  },
  "language_info": {
   "codemirror_mode": {
    "name": "ipython",
    "version": 3
   },
   "file_extension": ".py",
   "mimetype": "text/x-python",
   "name": "python",
   "nbconvert_exporter": "python",
   "pygments_lexer": "ipython3",
   "version": "3.9.7"
  }
 },
 "nbformat": 4,
 "nbformat_minor": 5
}
