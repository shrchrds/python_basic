{
 "cells": [
  {
   "cell_type": "markdown",
   "id": "41088e7b",
   "metadata": {},
   "source": [
    "- It is all very well being able to define a list, make changes and add new data, but if the next\n",
    "time the program is run it returns to the original data and your changes are lost then it is not a lot of use. \n",
    "- Therefore, it is sometimes necessary to save data outside of the program and this way the data can be stored, along with any changes that are made.\n",
    "- The easiest place to start learning about writing and reading from an external file is with a text file.\n",
    "- When opening an external file you must specify how that file will be used within the program. The options are below."
   ]
  },
  {
   "cell_type": "markdown",
   "id": "8418e3d8",
   "metadata": {},
   "source": [
    "### 3 Modes"
   ]
  },
  {
   "cell_type": "markdown",
   "id": "64f57092",
   "metadata": {},
   "source": [
    "**1. Write mode:(w)** \n",
    "- used to create a new file. \n",
    "- Any existing files with the same name will be erased and a new one created in its place.\n",
    "\n",
    "**2. Read mode:(r)** \n",
    "- used when an existing file is only being read and not being written to.\n",
    "\n",
    "**3. Append mode:(a)** \n",
    "- used to add new data to the end of the file."
   ]
  },
  {
   "cell_type": "markdown",
   "id": "43665600",
   "metadata": {},
   "source": [
    "**105.\n",
    "Write a new file\n",
    "called\n",
    "“Numbers.txt”.\n",
    "Add five numbers\n",
    "to the document\n",
    "which are stored\n",
    "on the same line\n",
    "and only\n",
    "separated by a\n",
    "comma. Once you\n",
    "have run the\n",
    "program, look in\n",
    "the location where\n",
    "your program is\n",
    "stored and you\n",
    "should see that\n",
    "the file has been\n",
    "created. The\n",
    "easiest way to\n",
    "view the contents\n",
    "of the new text file\n",
    "on a Windows\n",
    "system is to read it\n",
    "using Notepad.**"
   ]
  },
  {
   "cell_type": "code",
   "execution_count": 4,
   "id": "3b829c34",
   "metadata": {},
   "outputs": [],
   "source": [
    "with open(\"Numbers.txt\", \"w\") as f :\n",
    "    for i in range(5,10) :\n",
    "        f.write(str(i) + \",\" )"
   ]
  },
  {
   "cell_type": "markdown",
   "id": "8a624d67",
   "metadata": {},
   "source": [
    "**106.\n",
    "Create a new file called “Names.txt”. Add five names to the\n",
    "document, which are stored on separate lines. Once you have\n",
    "run the program, look in the location where your program is\n",
    "stored and check that the file has been created properly.**"
   ]
  },
  {
   "cell_type": "code",
   "execution_count": 5,
   "id": "9eaae506",
   "metadata": {},
   "outputs": [],
   "source": [
    "with open(\"Names.txt\", \"w\") as f :\n",
    "    f.write(\"Krishna\\n\")\n",
    "    f.write(\"Govinda\\n\")\n",
    "    f.write(\"Murari\\n\")\n",
    "    f.write(\"Narayana\\n\")\n",
    "    f.write(\"Vasudev\\n\")"
   ]
  },
  {
   "cell_type": "markdown",
   "id": "f91b50e1",
   "metadata": {},
   "source": [
    "**107.\n",
    "Open the\n",
    "Names.txt\n",
    "file and\n",
    "display\n",
    "the data\n",
    "in Python.**"
   ]
  },
  {
   "cell_type": "code",
   "execution_count": 7,
   "id": "5fda44d9",
   "metadata": {},
   "outputs": [
    {
     "name": "stdout",
     "output_type": "stream",
     "text": [
      "Krishna\n",
      "Govinda\n",
      "Murari\n",
      "Narayana\n",
      "Vasudev\n"
     ]
    }
   ],
   "source": [
    "with open(\"Names.txt\", \"r\") as f :\n",
    "    names = f.read()\n",
    "    print(names)"
   ]
  },
  {
   "cell_type": "markdown",
   "id": "5cd5397b",
   "metadata": {},
   "source": [
    "**108.\n",
    "Open the Names.txt file. Ask the user to input a\n",
    "new name. Add this to the end of the file and\n",
    "display the entire file.**"
   ]
  },
  {
   "cell_type": "code",
   "execution_count": 8,
   "id": "0e067bee",
   "metadata": {},
   "outputs": [
    {
     "name": "stdout",
     "output_type": "stream",
     "text": [
      "Enter a new name Ram\n",
      "Krishna\n",
      "Govinda\n",
      "Murari\n",
      "Narayana\n",
      "Vasudev\n",
      "Ram\n"
     ]
    }
   ],
   "source": [
    "with open(\"Names.txt\", \"a\") as f :\n",
    "    name = input(\"Enter a new name: \")\n",
    "    f.write(name)\n",
    "with open(\"Names.txt\", \"r\") as f :\n",
    "    names = f.read()\n",
    "    print(names)    "
   ]
  },
  {
   "cell_type": "markdown",
   "id": "dc5c690d",
   "metadata": {},
   "source": [
    "**109.\n",
    "Display the following menu to the user:**\n",
    "1. Create a New file\n",
    "2. Display the file\n",
    "3. Add a new item to the file\n",
    "\n",
    "Ask the user to enter 1, 2 or 3. \n",
    "\n",
    "If they select anything other than 1, 2 or 3 it should display a suitable error message.\n",
    "\n",
    "If they select 1, ask the user to enter a school subject and save it to a new file called\n",
    "“Subject.txt”. \n",
    "It should overwrite any existing file with a new file.\n",
    "If they select 2, display the contents of the “Subject.txt” file.\n",
    "If they select 3, ask the user to enter a new subject and save it to the file and then display\n",
    "the entire contents of the file.\n",
    "\n",
    "Run the program several times to test the options."
   ]
  },
  {
   "cell_type": "code",
   "execution_count": 29,
   "id": "5e662dff",
   "metadata": {},
   "outputs": [
    {
     "name": "stdout",
     "output_type": "stream",
     "text": [
      "Menu: 1. Create a New file, 2. Display the file, 3. Add a new item to the file\n",
      "Enter a number from 1, 2 or 3: 3\n",
      "Enter a new school subject: Geography\n",
      "file updated successfully.\n",
      "Updated Contents in file: \n",
      " History\n",
      "Geography\n",
      "\n"
     ]
    }
   ],
   "source": [
    "print(\"Menu: 1. Create a New file, 2. Display the file, 3. Add a new item to the file\")\n",
    "num = int(input(\"Enter a number from 1, 2 or 3: \"))\n",
    "while num > 3 or num < 1:\n",
    "    num = int(input(\"Enter a number from 1, 2 or 3: \"))\n",
    "if num == 1 :\n",
    "    subject = input(\"Enter a school subject: \")\n",
    "    with open(\"Subject.txt\", \"w\") as f :\n",
    "        f.write(subject)\n",
    "        f.write(\"\\n\")\n",
    "    print(f\"file created successfully.\")\n",
    "elif num == 2 :\n",
    "    with open(\"Subject.txt\", \"r\") as f :\n",
    "        data = f.read()\n",
    "        print(data)\n",
    "elif num == 3 :\n",
    "    new_subject = input(\"Enter a new school subject: \")\n",
    "    with open(\"Subject.txt\", \"a\") as f :\n",
    "        f.write(new_subject)\n",
    "        f.write(\"\\n\")\n",
    "    print(f\"file updated successfully.\")\n",
    "    with open(\"Subject.txt\", \"r\") as f :\n",
    "        data = f.read()\n",
    "        print(\"Updated Contents in file: \\n\",data) "
   ]
  },
  {
   "cell_type": "markdown",
   "id": "07cef1fe",
   "metadata": {},
   "source": [
    "**110.\n",
    "Using the Names.txt file you\n",
    "created earlier, display the list of\n",
    "names in Python. Ask the user to\n",
    "type in one of the names and then\n",
    "save all the names except the one\n",
    "they entered into a new file called\n",
    "Names2.txt.**"
   ]
  },
  {
   "cell_type": "code",
   "execution_count": 43,
   "id": "ee899687",
   "metadata": {},
   "outputs": [
    {
     "name": "stdout",
     "output_type": "stream",
     "text": [
      "Krishna\n",
      "Govinda\n",
      "Murari\n",
      "Narayana\n",
      "Vasudev\n",
      "Ram\n",
      "type in one of the names from above: Ram\n",
      "file created successfully\n",
      "New data: \n",
      " Krishna\n",
      "Govinda\n",
      "Murari\n",
      "Narayana\n",
      "Vasudev\n",
      "\n"
     ]
    }
   ],
   "source": [
    "with open(\"Names.txt\", \"r\") as f1 :\n",
    "    names = f1.readlines()\n",
    "    for i in names:\n",
    "        print(i, end='')\n",
    "        \n",
    "name = input(\"\\ntype in one of the names from above: \")\n",
    "\n",
    "with open(\"Names2.txt\", \"w\") as f2 :\n",
    "    for i in names :\n",
    "        if i != name :\n",
    "            f2.write(i)\n",
    "            f2.write(\"\")\n",
    "    print(\"file created successfully\")\n",
    "with open(\"Names2.txt\", \"r\") as f3 :\n",
    "    data =f3.read()\n",
    "    print(\"New data: \\n\", data)"
   ]
  },
  {
   "cell_type": "code",
   "execution_count": null,
   "id": "c4c94d7a",
   "metadata": {},
   "outputs": [],
   "source": []
  }
 ],
 "metadata": {
  "kernelspec": {
   "display_name": "Python 3 (ipykernel)",
   "language": "python",
   "name": "python3"
  },
  "language_info": {
   "codemirror_mode": {
    "name": "ipython",
    "version": 3
   },
   "file_extension": ".py",
   "mimetype": "text/x-python",
   "name": "python",
   "nbconvert_exporter": "python",
   "pygments_lexer": "ipython3",
   "version": "3.9.7"
  }
 },
 "nbformat": 4,
 "nbformat_minor": 5
}
