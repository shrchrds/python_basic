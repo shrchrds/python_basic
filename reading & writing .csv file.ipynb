{
 "cells": [
  {
   "cell_type": "markdown",
   "id": "5af6f1e6",
   "metadata": {},
   "source": [
    "### 4 Modes for reading and writing .csv file"
   ]
  },
  {
   "cell_type": "markdown",
   "id": "05e934b8",
   "metadata": {},
   "source": [
    "**1. Write mode:(w)** \n",
    "- used to create a new file. \n",
    "- Any existing files with the same name will be erased and a new one created in its place.\n",
    "\n",
    "**2. Write mode:(x)** \n",
    "- Creates a new file and writes to that file. If the file already exists, the program will crash rather than overwrite it.\n",
    "\n",
    "**3. Read mode:(r)** \n",
    "- used when an existing file is only being read and not being written to.\n",
    "\n",
    "**4. Append mode:(a)** \n",
    "- used to add new data to the end of the file."
   ]
  },
  {
   "cell_type": "code",
   "execution_count": 1,
   "id": "0e01602c",
   "metadata": {},
   "outputs": [],
   "source": [
    "import csv"
   ]
  },
  {
   "cell_type": "code",
   "execution_count": 2,
   "id": "8acbc1ef",
   "metadata": {},
   "outputs": [],
   "source": [
    "file = open(\"Stars.csv\", \"w\")\n",
    "new = \"Akshay, 26, Libra\\n\"\n",
    "file.write(str(new))\n",
    "file.close()"
   ]
  },
  {
   "cell_type": "code",
   "execution_count": 3,
   "id": "934743d1",
   "metadata": {},
   "outputs": [
    {
     "name": "stdout",
     "output_type": "stream",
     "text": [
      "Enter name: Sujay\n",
      "Enter Age: 21\n",
      "Enter star sign: Cancer\n"
     ]
    }
   ],
   "source": [
    "file = open(\"Stars.csv\", \"a\")\n",
    "name = input(\"Enter name: \")\n",
    "age = input(\"Enter Age: \")\n",
    "star = input(\"Enter star sign: \")\n",
    "newrecord = name + \",\" + age + \",\" + star\n",
    "file.write(str(newrecord))\n",
    "file.close()"
   ]
  },
  {
   "cell_type": "code",
   "execution_count": 4,
   "id": "fa8da1fb",
   "metadata": {},
   "outputs": [
    {
     "name": "stdout",
     "output_type": "stream",
     "text": [
      "Akshay, 26, Libra\n",
      "\n",
      "Sujay,21,Cancer\n"
     ]
    }
   ],
   "source": [
    "file = open(\"Stars.csv\", \"r\")\n",
    "for row in file :\n",
    "    print(row)"
   ]
  },
  {
   "cell_type": "code",
   "execution_count": 8,
   "id": "de9fd27a",
   "metadata": {},
   "outputs": [
    {
     "name": "stdout",
     "output_type": "stream",
     "text": [
      "[['Akshay', ' 26', ' Libra'], ['Sujay', '21', 'Cancer']]\n",
      "['Sujay', '21', 'Cancer']\n"
     ]
    }
   ],
   "source": [
    "file = open(\"Stars.csv\", \"r\")\n",
    "# creates iterable object\n",
    "reader = csv.reader(file) \n",
    "\n",
    "rows = list(reader)\n",
    "print(rows)\n",
    "print(rows[1])"
   ]
  },
  {
   "cell_type": "code",
   "execution_count": 9,
   "id": "967f92a6",
   "metadata": {},
   "outputs": [
    {
     "name": "stdout",
     "output_type": "stream",
     "text": [
      "Enter data you want to search: Sujay\n",
      "Sujay,21,Cancer\n"
     ]
    }
   ],
   "source": [
    "file = open(\"Stars.csv\", \"r\")\n",
    "search = input(\"Enter data you want to search: \")\n",
    "\n",
    "for row in file :\n",
    "    if search in str(row) :\n",
    "        print(row)"
   ]
  },
  {
   "cell_type": "code",
   "execution_count": 10,
   "id": "85368a7b",
   "metadata": {},
   "outputs": [],
   "source": [
    "file = list(csv.reader(open(\"Stars.csv\")))\n",
    "tmp = []\n",
    "for row in file :\n",
    "    tmp.append(row)"
   ]
  },
  {
   "cell_type": "markdown",
   "id": "152a0911",
   "metadata": {},
   "source": [
    "- A .csv file cannot be altered, only added to. \n",
    "- If you need to alter the file you need to\n",
    "write it to a temporary list. \n",
    "- This block of code will read the original .csv file and write it to a list called “tmp”. "
   ]
  },
  {
   "cell_type": "code",
   "execution_count": 11,
   "id": "6e06e325",
   "metadata": {},
   "outputs": [],
   "source": [
    "# Writes from a list into a new .csv file called “NewStars.csv”.\n",
    "file = open(\"NewStart.csv\", \"w\")\n",
    "x = 0\n",
    "for row in tmp :\n",
    "    newRec = tmp[x][0] + \",\" + tmp[x][1] + \",\" + tmp[x][2] +\"\\n\"\n",
    "    file.write(newRec)\n",
    "    x = x + 1\n",
    "file.close()"
   ]
  },
  {
   "cell_type": "markdown",
   "id": "6ec3e3c2",
   "metadata": {},
   "source": [
    "### Challenges"
   ]
  },
  {
   "cell_type": "markdown",
   "id": "978626e5",
   "metadata": {},
   "source": [
    "**111.\n",
    "Create a .csv file that will store the following data. Call it “Books.csv”.**"
   ]
  },
  {
   "cell_type": "code",
   "execution_count": 44,
   "id": "a5aef6b5",
   "metadata": {},
   "outputs": [],
   "source": [
    "with open(\"Books.csv\", \"w\") as file:\n",
    "    file.write(\"To Kill A Mockingbird, Harper Lee, 1960\")\n",
    "    file.write(\"\\nA Brief History of Time, Stephen Hawking, 1988\")\n",
    "    file.write(\"\\nThe Great Gatsby, F. Scott Fitzgerald, 1922\")\n",
    "    file.write(\"\\nThe Man Who Mistook His Wife for a Hat, Oliver Sacks, 1985\")\n",
    "    file.write(\"\\nPride and Prejudice, Jane Austen, 1813\")"
   ]
  },
  {
   "cell_type": "markdown",
   "id": "e0d61d48",
   "metadata": {},
   "source": [
    "**112.\n",
    "Using the Books.csv file\n",
    "from program 111, ask\n",
    "the user to enter another\n",
    "record and add it to the\n",
    "end of the file. Display\n",
    "each row of the .csv file\n",
    "on a separate line.**"
   ]
  },
  {
   "cell_type": "code",
   "execution_count": 23,
   "id": "9e4eaf79",
   "metadata": {},
   "outputs": [
    {
     "name": "stdout",
     "output_type": "stream",
     "text": [
      "Enter name of book: You Can Win\n",
      "Enter Author name: Shiv Khera\n",
      "Enter year of release1989\n",
      "To Kill A Mockingbird, Harper Lee, 1960\n",
      "\n",
      "A Brief History of Time, Stephen Hawking, 1988\n",
      "\n",
      "The Great Gatsby, F. Scott Fitzgerald, 1922\n",
      "\n",
      "The Man Who Mistook His Wife for a Hat, Oliver Sacks, 1985\n",
      "\n",
      "Pride and Prejudice, Jane Austen, 1813\n",
      "\n",
      "You Can Win,Shiv Khera,1989\n"
     ]
    }
   ],
   "source": [
    "with open(\"Books.csv\", \"a\") as file:\n",
    "    bookname = input(\"Enter name of book: \")\n",
    "    author = input(\"Enter Author name: \")\n",
    "    year = input(\"Enter year of release\")\n",
    "    Record = bookname + \",\" + author + \",\" + year + \"\\n\"\n",
    "    \n",
    "    file.write(Record)\n",
    "with open(\"Books.csv\", \"r\") as f:\n",
    "    for row in f :\n",
    "        print(row)"
   ]
  },
  {
   "cell_type": "markdown",
   "id": "4442ec7a",
   "metadata": {},
   "source": [
    "**113.\n",
    "Using the Books.csv file, ask the user how many records\n",
    "they want to add to the list and then allow them to add\n",
    "that many. After all the data has been added, ask for an\n",
    "author and display all the books in the list by that author.\n",
    "If there are no books by that author in the list, display a\n",
    "suitable message.**"
   ]
  },
  {
   "cell_type": "code",
   "execution_count": 32,
   "id": "3bf94a7a",
   "metadata": {},
   "outputs": [
    {
     "name": "stdout",
     "output_type": "stream",
     "text": [
      "how many records do you want to add to list? : 1\n",
      "Enter name of book: Cashflow Quadrant\n",
      "Enter Author name: Robert T. Kiyosaki\n",
      "Enter year of release: 1990\n",
      "Enter Author name to search: Robert T. Kiyosaki\n",
      "Rich Dad Poor Dad,Robert T. Kiyosaki,1984\n",
      "\n",
      "Cashflow Quadrant,Robert T. Kiyosaki,1990\n"
     ]
    }
   ],
   "source": [
    "rec = int(input(\"how many records do you want to add to list? : \"))\n",
    "with open(\"Books.csv\", \"a\") as file:\n",
    "    for i in range(0, rec) :\n",
    "        bookname = input(\"Enter name of book: \")\n",
    "        author = input(\"Enter Author name: \")\n",
    "        year = input(\"Enter year of release: \")\n",
    "        Record = bookname + \",\" + author + \",\" + year + \"\\n\"\n",
    "        file.write(Record)\n",
    "        \n",
    "search_author = input(\"Enter Author name to search: \")\n",
    "with open(\"Books.csv\", \"r\") as f:\n",
    "    count = 0\n",
    "    for row in f :\n",
    "        if search_author in str(row) :\n",
    "            print(row)\n",
    "            count +=1\n",
    "    if count == 0 :\n",
    "        print(\"No books found for author you are looking for\")\n",
    "    "
   ]
  },
  {
   "cell_type": "markdown",
   "id": "b1bfbdc6",
   "metadata": {},
   "source": [
    "**114.\n",
    "Using the Books.csv file, ask the user\n",
    "to enter a starting year and an end\n",
    "year. Display all books released\n",
    "between those two years.**"
   ]
  },
  {
   "cell_type": "code",
   "execution_count": 37,
   "id": "37f70a8e",
   "metadata": {},
   "outputs": [
    {
     "name": "stdout",
     "output_type": "stream",
     "text": [
      "starting year : 1980\n",
      "ending year : 2000\n",
      "['Think and Grow Rich', 'Napolean Hill', '1980']\n",
      "['Rich Dad Poor Dad', 'Robert T. Kiyosaki', '1984']\n",
      "['Cashflow Quadrant', 'Robert T. Kiyosaki', '1990']\n"
     ]
    }
   ],
   "source": [
    "start_year = int(input(\"starting year : \"))\n",
    "end_year = int(input(\"ending year : \"))\n",
    "\n",
    "with open(\"Books.csv\", \"r\") as f:\n",
    "    reader = list(csv.reader(f))\n",
    "    tmp = []\n",
    "    for row in reader :\n",
    "        tmp.append(row)\n",
    "    i = 0\n",
    "    for row in tmp :\n",
    "        if int(tmp[i][2]) >= start_year and int(tmp[i][2]) <= end_year :\n",
    "            print(tmp[i])\n",
    "        i +=1"
   ]
  },
  {
   "cell_type": "markdown",
   "id": "a0805695",
   "metadata": {},
   "source": [
    "**115.\n",
    "Using the Books.csv file, display the data in\n",
    "the file along with the row number of each.**"
   ]
  },
  {
   "cell_type": "code",
   "execution_count": 40,
   "id": "0aa6e7ca",
   "metadata": {},
   "outputs": [
    {
     "name": "stdout",
     "output_type": "stream",
     "text": [
      "Row Number: 0 : To Kill A Mockingbird, Harper Lee, 1960\n",
      "\n",
      "Row Number: 1 : A Brief History of Time, Stephen Hawking, 1988\n",
      "\n",
      "Row Number: 2 : The Great Gatsby, F. Scott Fitzgerald, 1922\n",
      "\n",
      "Row Number: 3 : The Man Who Mistook His Wife for a Hat, Oliver Sacks, 1985\n",
      "\n",
      "Row Number: 4 : Pride and Prejudice, Jane Austen, 1813\n"
     ]
    }
   ],
   "source": [
    "with open(\"Books.csv\", \"r\") as f:\n",
    "    i = 0\n",
    "    for row in f :\n",
    "        data = \"Row Number: \" + str(i) + \" : \" + row\n",
    "        print(data)\n",
    "        i +=1"
   ]
  },
  {
   "cell_type": "markdown",
   "id": "7fb956ef",
   "metadata": {},
   "source": [
    "**116. Import the data from the Books.csv file into a list. Display the\n",
    "list to the user. Ask them to select which row from the list\n",
    "they want to delete and remove it from the list. Ask the user\n",
    "which data they want to change and allow them to change it.\n",
    "Write the data back to the original .csv file, overwriting the\n",
    "existing data with the amended data.**"
   ]
  },
  {
   "cell_type": "code",
   "execution_count": 45,
   "id": "258fb4c1",
   "metadata": {},
   "outputs": [
    {
     "name": "stdout",
     "output_type": "stream",
     "text": [
      "(0, ['To Kill A Mockingbird', ' Harper Lee', ' 1960'])\n",
      "(1, ['A Brief History of Time', ' Stephen Hawking', ' 1988'])\n",
      "(2, ['The Great Gatsby', ' F. Scott Fitzgerald', ' 1922'])\n",
      "(3, ['The Man Who Mistook His Wife for a Hat', ' Oliver Sacks', ' 1985'])\n",
      "(4, ['Pride and Prejudice', ' Jane Austen', ' 1813'])\n",
      "Enter a row number to delete: 00\n",
      "(0, ['A Brief History of Time', ' Stephen Hawking', ' 1988'])\n",
      "(1, ['The Great Gatsby', ' F. Scott Fitzgerald', ' 1922'])\n",
      "(2, ['The Man Who Mistook His Wife for a Hat', ' Oliver Sacks', ' 1985'])\n",
      "(3, ['Pride and Prejudice', ' Jane Austen', ' 1813'])\n",
      "Enter a row number to change: 3\n",
      "(0, 'Pride and Prejudice')\n",
      "(1, ' Jane Austen')\n",
      "(2, ' 1813')\n",
      "Which part do you want to change? : 2\n",
      "Enter new data: 1850\n",
      "['Pride and Prejudice', ' Jane Austen', '1850']\n"
     ]
    }
   ],
   "source": [
    "file = list(csv.reader(open(\"Books.csv\")))\n",
    "books = []\n",
    "for row in file :\n",
    "    books.append(row)\n",
    "\n",
    "#delete\n",
    "i = 0\n",
    "for row in books :\n",
    "    data = i, books[i]\n",
    "    print(data)\n",
    "    i +=1\n",
    "delete = int(input(\"Enter a row number to delete: \"))\n",
    "del books[delete]\n",
    "\n",
    "#change row\n",
    "i = 0\n",
    "for row in books :\n",
    "    data = i, books[i]\n",
    "    print(data)\n",
    "    i +=1 \n",
    "change = int(input(\"Enter a row number to change: \"))\n",
    "\n",
    "i = 0\n",
    "for row in books[change] :\n",
    "    data = i, books[change][i]\n",
    "    print(data)\n",
    "    i += 1\n",
    "part = int(input(\"Which part do you want to change? : \"))\n",
    "newdata = input(\"Enter new data: \")\n",
    "books[change][part] = newdata\n",
    "print(books[change])\n",
    "\n",
    "with open(\"Books.csv\", \"w\") as f :\n",
    "    i = 0\n",
    "    for row in books :\n",
    "        newrec = books[i][0] + \", \" + books[i][1] + \", \"+ books[i][2] + \"\\n\"\n",
    "        f.write(newrec)\n",
    "        i +=1"
   ]
  },
  {
   "cell_type": "markdown",
   "id": "3c477911",
   "metadata": {},
   "source": [
    "**117.\n",
    "Create a simple maths quiz that will ask the user for their name and then generate two\n",
    "random questions. Store their name, the questions they were asked, their answers and\n",
    "their final score in a .csv file. Whenever the program is run it should add to the .csv file\n",
    "and not overwrite anything.**"
   ]
  },
  {
   "cell_type": "code",
   "execution_count": 46,
   "id": "7207907c",
   "metadata": {},
   "outputs": [],
   "source": [
    "import random"
   ]
  },
  {
   "cell_type": "code",
   "execution_count": 49,
   "id": "6d7da7ef",
   "metadata": {},
   "outputs": [
    {
     "name": "stdout",
     "output_type": "stream",
     "text": [
      "Enter your name: shiv\n",
      "6 + 10 = 15\n",
      "4 + 8 = 12\n"
     ]
    }
   ],
   "source": [
    "score = 0\n",
    "name = input(\"Enter your name: \")\n",
    "\n",
    "q1num1 = random.randint(1,10)\n",
    "q1num2 = random.randint(1,10)\n",
    "\n",
    "q1 = str(q1num1) + \" + \" + str(q1num2) + \" = \"\n",
    "ans1 = int(input(q1))\n",
    "answer1 = q1num1 + q1num2\n",
    "if ans1 == answer1 :\n",
    "    score += 1\n",
    "    \n",
    "q2num1 = random.randint(1,10)\n",
    "q2num2 = random.randint(1,10)\n",
    "\n",
    "q2 = str(q2num1) + \" + \" + str(q2num2) + \" = \"\n",
    "ans2 = int(input(q2))\n",
    "answer2 = q2num1 + q2num2\n",
    "\n",
    "if ans2 == answer2 :\n",
    "    score += 1\n",
    "    \n",
    "with open(\"quiz.csv\", \"w\") as f:\n",
    "    newrec = name + \",\" + q1 + \",\" + str(ans1) + \",\" + q2 + \",\" + str(ans2) + \",\" + str(score) + \"\\n\" \n",
    "    f.write(str(newrec))"
   ]
  },
  {
   "cell_type": "code",
   "execution_count": null,
   "id": "8e8672e2",
   "metadata": {},
   "outputs": [],
   "source": []
  }
 ],
 "metadata": {
  "kernelspec": {
   "display_name": "Python 3 (ipykernel)",
   "language": "python",
   "name": "python3"
  },
  "language_info": {
   "codemirror_mode": {
    "name": "ipython",
    "version": 3
   },
   "file_extension": ".py",
   "mimetype": "text/x-python",
   "name": "python",
   "nbconvert_exporter": "python",
   "pygments_lexer": "ipython3",
   "version": "3.9.7"
  }
 },
 "nbformat": 4,
 "nbformat_minor": 5
}
